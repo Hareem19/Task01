{
 "cells": [
  {
   "cell_type": "code",
   "execution_count": 1,
   "id": "77cedd29",
   "metadata": {},
   "outputs": [],
   "source": [
    "import requests\n",
    "from bs4 import BeautifulSoup\n",
    "import pandas as pd"
   ]
  },
  {
   "cell_type": "code",
   "execution_count": 2,
   "id": "d03a45ed",
   "metadata": {},
   "outputs": [],
   "source": [
    "# url1=\"https://www.daraz.pk/catalog/?spm=a2a0e.home.cate_7_1.12.1a014076iZT31f&q=samsung%20%20mobile&_keyori=ss&clickTrackInfo=textId--5062603309516099878__abId--300703__pvid--35b2f2d7-4e10-4983-9732-723540879cb9__matchType--1__srcQuery--samsung%20%20mobile__spellQuery--samsung%20%20mobile&from=suggest_normal&sugg=samsung%20%20mobile_1_1\"\n",
    "url1=\"https://homeshopping.pk/categories/Samsung-Mobile-Prices-In-Pakistan/\"\n",
    "url2=\"https://priceoye.pk/mobiles/samsung\""
   ]
  },
  {
   "cell_type": "markdown",
   "id": "550da15e",
   "metadata": {},
   "source": [
    "# Web Scrapping of Samsung Phones (Product) from Home Shopping (E-Commerce Website)"
   ]
  },
  {
   "cell_type": "code",
   "execution_count": 3,
   "id": "4ae39227",
   "metadata": {},
   "outputs": [],
   "source": [
    "r1=requests.get(url1)"
   ]
  },
  {
   "cell_type": "code",
   "execution_count": 4,
   "id": "bf18c015",
   "metadata": {},
   "outputs": [],
   "source": [
    "soup1=BeautifulSoup(r1.text,\"lxml\")"
   ]
  },
  {
   "cell_type": "code",
   "execution_count": 5,
   "id": "2f180229",
   "metadata": {},
   "outputs": [],
   "source": [
    "name1=soup1.find_all('h5', class_='ProductDetails')"
   ]
  },
  {
   "cell_type": "code",
   "execution_count": 48,
   "id": "deb6c9d2",
   "metadata": {},
   "outputs": [],
   "source": [
    "# for i in name1:\n",
    "#     print(i.text)"
   ]
  },
  {
   "cell_type": "code",
   "execution_count": 49,
   "id": "dd512cbf",
   "metadata": {},
   "outputs": [],
   "source": [
    "price1= soup1.find_all('div', class_='ActualPrice')\n"
   ]
  },
  {
   "cell_type": "code",
   "execution_count": 50,
   "id": "f28a2a57",
   "metadata": {},
   "outputs": [],
   "source": [
    "# for i in price1:\n",
    "#     print(i.text)"
   ]
  },
  {
   "cell_type": "code",
   "execution_count": 51,
   "id": "f614b18e",
   "metadata": {},
   "outputs": [],
   "source": [
    "# Find all elements with class \"ProductDetails\"\n",
    "name1= soup1.find_all('h5', class_='ProductDetails')\n",
    "\n",
    "# Initialize lists to store product names and prices\n",
    "product_names = []\n",
    "\n",
    "\n",
    "# Loop through each product listing\n",
    "for name in name1:\n",
    "    product_name = name.a.text.strip()\n",
    "    product_names.append(product_name)"
   ]
  },
  {
   "cell_type": "code",
   "execution_count": 53,
   "id": "ac419e7d",
   "metadata": {},
   "outputs": [],
   "source": [
    "# product_names"
   ]
  },
  {
   "cell_type": "code",
   "execution_count": 55,
   "id": "561ccb53",
   "metadata": {},
   "outputs": [],
   "source": [
    "# len(product_names)"
   ]
  },
  {
   "cell_type": "code",
   "execution_count": 56,
   "id": "49f65652",
   "metadata": {},
   "outputs": [],
   "source": [
    "price1 = soup1.find_all('div', class_='ActualPrice')"
   ]
  },
  {
   "cell_type": "code",
   "execution_count": 57,
   "id": "832a2849",
   "metadata": {},
   "outputs": [],
   "source": [
    "# Find all elements with class \"ActualPrice\"\n",
    "# price_elements = soup.find_all('div', class='ActualPrice')\n",
    "prices = [] \n",
    "\n",
    "# Loop through each price element\n",
    "for price_element in price1:\n",
    "    price = price_element.text.strip()\n",
    "    prices.append(price)"
   ]
  },
  {
   "cell_type": "code",
   "execution_count": 59,
   "id": "c083e1d1",
   "metadata": {},
   "outputs": [],
   "source": [
    "# prices"
   ]
  },
  {
   "cell_type": "code",
   "execution_count": 60,
   "id": "699c5fd5",
   "metadata": {},
   "outputs": [
    {
     "name": "stdout",
     "output_type": "stream",
     "text": [
      "                                              Product       Price\n",
      "0   Samsung Galaxy A14 (4G 4GB 64GB Black Mist w/o...   Rs 36,699\n",
      "1   Samsung Galaxy A54 (5G 8GB 128GB Awesome Graph...  Rs 117,999\n",
      "2   Samsung Galaxy S22 Ultra (5G 12GB 256GB Burgun...  Rs 341,999\n",
      "3   Samsung Galaxy A03 (4G 4GB 64GB Black) With Of...   Rs 35,299\n",
      "4   Samsung Galaxy S23 Ultra (5G 12GB 256GB Green)...  Rs 288,999\n",
      "5   Samsung Galaxy A04s (4G 4GB 128GB Awesome Whit...   Rs 39,700\n",
      "6   Samsung Galaxy A24 (4G 8GB 128GB Silver) With ...   Rs 76,099\n",
      "7   Samsung Galaxy A13 (4G 4GB 64GB Awesome Black)...   Rs 50,499\n",
      "8   Samsung Galaxy A04 (4G 4GB 64GB Black) With Of...   Rs 35,399\n",
      "9   Samsung Galaxy Z Flip 4 (5G 8GB 256GB Blue) - ...  Rs 224,999\n",
      "10  Samsung Galaxy A04 (4G 3GB 32GB Green) With Of...   Rs 34,999\n",
      "11  Samsung Galaxy A24 (4G 6GB 128GB Black) With O...   Rs 71,099\n",
      "12  Samsung Galaxy A14 (4G 6GB 128GB Green) - With...   Rs 54,399\n",
      "13  Samsung Galaxy A54 (5G 8GB 128GB Awesome Graph...  Rs 139,099\n",
      "14  Samsung Galaxy A54 (5G 8GB 128GB Awesome Lime)...  Rs 166,599\n",
      "15  Samsung Galaxy A14 (4G 4GB 128GB Black Mist) -...   Rs 52,299\n",
      "16  Samsung Galaxy S22 Ultra (5G 12GB 256GB White)...  Rs 341,999\n",
      "17  Samsung Galaxy A34 (5G 8GB 128GB Awesome Lime)...  Rs 142,499\n",
      "18  Samsung Galaxy A04 (4G 4GB 64GB White) With Of...   Rs 39,399\n",
      "19  Samsung Galaxy A14 (4G 4GB 128GB Green) - With...   Rs 52,299\n",
      "20  Samsung Galaxy A13 (4G 4GB 64GB Awesome Blue) ...   Rs 50,499\n",
      "21  Samsung Galaxy S23 Ultra (5G 12GB 256GB Cream)...  Rs 288,999\n",
      "22  Samsung Galaxy A13 (4G 4GB 128GB Awesome Black...   Rs 53,499\n",
      "23  Samsung Galaxy A04 (4G 4GB 64GB Copper) With O...   Rs 35,399\n"
     ]
    }
   ],
   "source": [
    "# Create a DataFrame with two columns\n",
    "df1 = pd.DataFrame({'Product': product_names, 'Price': prices})\n",
    "\n",
    "# Print the DataFrame\n",
    "print(df1)"
   ]
  },
  {
   "cell_type": "code",
   "execution_count": 62,
   "id": "74f118a3",
   "metadata": {},
   "outputs": [],
   "source": [
    "# Remove text within parentheses using regular expressions\n",
    "# df1['Product']\n"
   ]
  },
  {
   "cell_type": "code",
   "execution_count": 76,
   "id": "1ee4fa85",
   "metadata": {},
   "outputs": [],
   "source": [
    "# Remove text within parentheses using regular expressions\n",
    "df1['Product'] = df1['Product'].str.replace(r'\\([^)]*\\)', '', regex=True)\n"
   ]
  },
  {
   "cell_type": "code",
   "execution_count": 77,
   "id": "700860bd",
   "metadata": {},
   "outputs": [],
   "source": [
    "# Split the \"Details\" column at the hyphen and keep only the part before the hyphen\n",
    "df1['Product'] = df1['Product'].str.split(' - ').str[0]\n",
    "\n",
    "# # Print the updated DataFrame\n",
    "# print(df)"
   ]
  },
  {
   "cell_type": "code",
   "execution_count": 78,
   "id": "63cdb8ad",
   "metadata": {},
   "outputs": [
    {
     "name": "stdout",
     "output_type": "stream",
     "text": [
      "                       Product    Price\n",
      "0          Samsung Galaxy A14    36,699\n",
      "1          Samsung Galaxy A54   117,999\n",
      "2    Samsung Galaxy S22 Ultra   341,999\n",
      "3          Samsung Galaxy A03    35,299\n",
      "4    Samsung Galaxy S23 Ultra   288,999\n",
      "5         Samsung Galaxy A04s    39,700\n",
      "6          Samsung Galaxy A24    76,099\n",
      "7          Samsung Galaxy A13    50,499\n",
      "8          Samsung Galaxy A04    35,399\n",
      "9   Samsung Galaxy Z Flip 4  -  224,999\n",
      "10         Samsung Galaxy A04    34,999\n",
      "11         Samsung Galaxy A24    71,099\n",
      "12       Samsung Galaxy A14  -   54,399\n",
      "13       Samsung Galaxy A54  -  139,099\n",
      "14       Samsung Galaxy A54  -  166,599\n",
      "15       Samsung Galaxy A14  -   52,299\n",
      "16   Samsung Galaxy S22 Ultra   341,999\n",
      "17         Samsung Galaxy A34   142,499\n",
      "18         Samsung Galaxy A04    39,399\n",
      "19       Samsung Galaxy A14  -   52,299\n",
      "20         Samsung Galaxy A13    50,499\n",
      "21   Samsung Galaxy S23 Ultra   288,999\n",
      "22         Samsung Galaxy A13    53,499\n",
      "23         Samsung Galaxy A04    35,399\n"
     ]
    }
   ],
   "source": [
    "# Remove \"With Official Warranty\" if it appears at the end of the \"Details\" column\n",
    "df1['Product'] = df1['Product'].str.replace(r'\\s*With Official Warranty$', '', regex=True)\n",
    "\n",
    "# Print the updated DataFrame\n",
    "print(df1)"
   ]
  },
  {
   "cell_type": "code",
   "execution_count": 83,
   "id": "f24092cf",
   "metadata": {},
   "outputs": [
    {
     "name": "stdout",
     "output_type": "stream",
     "text": [
      "                      Product    Price\n",
      "0          Samsung Galaxy A14   36,699\n",
      "1          Samsung Galaxy A54  117,999\n",
      "2    Samsung Galaxy S22 Ultra  341,999\n",
      "3          Samsung Galaxy A03   35,299\n",
      "4    Samsung Galaxy S23 Ultra  288,999\n",
      "5         Samsung Galaxy A04s   39,700\n",
      "6          Samsung Galaxy A24   76,099\n",
      "7          Samsung Galaxy A13   50,499\n",
      "8          Samsung Galaxy A04   35,399\n",
      "9   Samsung Galaxy Z Flip 4    224,999\n",
      "10         Samsung Galaxy A04   34,999\n",
      "11         Samsung Galaxy A24   71,099\n",
      "12       Samsung Galaxy A14     54,399\n",
      "13       Samsung Galaxy A54    139,099\n",
      "14       Samsung Galaxy A54    166,599\n",
      "15       Samsung Galaxy A14     52,299\n",
      "16   Samsung Galaxy S22 Ultra  341,999\n",
      "17         Samsung Galaxy A34  142,499\n",
      "18         Samsung Galaxy A04   39,399\n",
      "19       Samsung Galaxy A14     52,299\n",
      "20         Samsung Galaxy A13   50,499\n",
      "21   Samsung Galaxy S23 Ultra  288,999\n",
      "22         Samsung Galaxy A13   53,499\n",
      "23         Samsung Galaxy A04   35,399\n"
     ]
    }
   ],
   "source": [
    "# Remove \"With Official Warranty\" if it appears at the end of the \"Details\" column\n",
    "df1['Product'] = df1['Product'].str.replace(\"-\", '', regex=True)\n",
    "\n",
    "# Print the updated DataFrame\n",
    "print(df1)"
   ]
  },
  {
   "cell_type": "code",
   "execution_count": 107,
   "id": "6fe11310",
   "metadata": {},
   "outputs": [
    {
     "name": "stdout",
     "output_type": "stream",
     "text": [
      "                     Product    Price\n",
      "0         Samsung Galaxy A14    36699\n",
      "1         Samsung Galaxy A54   117999\n",
      "2   Samsung Galaxy S22 Ultra   341999\n",
      "3         Samsung Galaxy A03    35299\n",
      "4   Samsung Galaxy S23 Ultra   288999\n",
      "5        Samsung Galaxy A04s    39700\n",
      "6         Samsung Galaxy A24    76099\n",
      "7         Samsung Galaxy A13    50499\n",
      "8         Samsung Galaxy A04    35399\n",
      "9    Samsung Galaxy Z Flip 4   224999\n",
      "10        Samsung Galaxy A04    34999\n",
      "11        Samsung Galaxy A24    71099\n",
      "12        Samsung Galaxy A14    54399\n",
      "13        Samsung Galaxy A54   139099\n",
      "14        Samsung Galaxy A54   166599\n",
      "15        Samsung Galaxy A14    52299\n",
      "16  Samsung Galaxy S22 Ultra   341999\n",
      "17        Samsung Galaxy A34   142499\n",
      "18        Samsung Galaxy A04    39399\n",
      "19        Samsung Galaxy A14    52299\n",
      "20        Samsung Galaxy A13    50499\n",
      "21  Samsung Galaxy S23 Ultra   288999\n",
      "22        Samsung Galaxy A13    53499\n",
      "23        Samsung Galaxy A04    35399\n"
     ]
    }
   ],
   "source": [
    "# Remove \"Rs\" from the \"Price\" column\n",
    "df1['Price'] = df1['Price'].str.replace('Rs', '')\n",
    "\n",
    "# Print the updated DataFrame\n",
    "print(df1)"
   ]
  },
  {
   "cell_type": "code",
   "execution_count": 108,
   "id": "efa1d71a",
   "metadata": {},
   "outputs": [
    {
     "name": "stdout",
     "output_type": "stream",
     "text": [
      "                     Product    Price\n",
      "0         Samsung Galaxy A14    36699\n",
      "1         Samsung Galaxy A54   117999\n",
      "2   Samsung Galaxy S22 Ultra   341999\n",
      "3         Samsung Galaxy A03    35299\n",
      "4   Samsung Galaxy S23 Ultra   288999\n",
      "5        Samsung Galaxy A04s    39700\n",
      "6         Samsung Galaxy A24    76099\n",
      "7         Samsung Galaxy A13    50499\n",
      "8         Samsung Galaxy A04    35399\n",
      "9    Samsung Galaxy Z Flip 4   224999\n",
      "10        Samsung Galaxy A04    34999\n",
      "11        Samsung Galaxy A24    71099\n",
      "12        Samsung Galaxy A14    54399\n",
      "13        Samsung Galaxy A54   139099\n",
      "14        Samsung Galaxy A54   166599\n",
      "15        Samsung Galaxy A14    52299\n",
      "16  Samsung Galaxy S22 Ultra   341999\n",
      "17        Samsung Galaxy A34   142499\n",
      "18        Samsung Galaxy A04    39399\n",
      "19        Samsung Galaxy A14    52299\n",
      "20        Samsung Galaxy A13    50499\n",
      "21  Samsung Galaxy S23 Ultra   288999\n",
      "22        Samsung Galaxy A13    53499\n",
      "23        Samsung Galaxy A04    35399\n"
     ]
    }
   ],
   "source": [
    "# Remove \"Rs\" from the \"Price\" column\n",
    "df1['Price'] = df1['Price'].str.replace(',', '')\n",
    "\n",
    "# Print the updated DataFrame\n",
    "print(df1)"
   ]
  },
  {
   "cell_type": "code",
   "execution_count": 104,
   "id": "26611a11",
   "metadata": {},
   "outputs": [
    {
     "name": "stdout",
     "output_type": "stream",
     "text": [
      "                     Product      Price\n",
      "0         Samsung Galaxy A14   Rs 36699\n",
      "1         Samsung Galaxy A54  Rs 117999\n",
      "2   Samsung Galaxy S22 Ultra  Rs 341999\n",
      "3         Samsung Galaxy A03   Rs 35299\n",
      "4   Samsung Galaxy S23 Ultra  Rs 288999\n",
      "5        Samsung Galaxy A04s   Rs 39700\n",
      "6         Samsung Galaxy A24   Rs 76099\n",
      "7         Samsung Galaxy A13   Rs 50499\n",
      "8         Samsung Galaxy A04   Rs 35399\n",
      "9    Samsung Galaxy Z Flip 4  Rs 224999\n",
      "10        Samsung Galaxy A04   Rs 34999\n",
      "11        Samsung Galaxy A24   Rs 71099\n",
      "12        Samsung Galaxy A14   Rs 54399\n",
      "13        Samsung Galaxy A54  Rs 139099\n",
      "14        Samsung Galaxy A54  Rs 166599\n",
      "15        Samsung Galaxy A14   Rs 52299\n",
      "16  Samsung Galaxy S22 Ultra  Rs 341999\n",
      "17        Samsung Galaxy A34  Rs 142499\n",
      "18        Samsung Galaxy A04   Rs 39399\n",
      "19        Samsung Galaxy A14   Rs 52299\n",
      "20        Samsung Galaxy A13   Rs 50499\n",
      "21  Samsung Galaxy S23 Ultra  Rs 288999\n",
      "22        Samsung Galaxy A13   Rs 53499\n",
      "23        Samsung Galaxy A04   Rs 35399\n"
     ]
    }
   ],
   "source": [
    "# Remove leading and trailing spaces from both columns\n",
    "df1['Product']= df1['Product'].str.strip()\n",
    "df1['Price'] = df1['Price'].str.strip()\n",
    "\n",
    "# Print the updated DataFrame\n",
    "print(df1)"
   ]
  },
  {
   "cell_type": "code",
   "execution_count": 135,
   "id": "3b5f1694",
   "metadata": {},
   "outputs": [
    {
     "data": {
      "text/plain": [
       "5"
      ]
     },
     "execution_count": 135,
     "metadata": {},
     "output_type": "execute_result"
    }
   ],
   "source": [
    "df1.duplicated().sum()"
   ]
  },
  {
   "cell_type": "code",
   "execution_count": 142,
   "id": "e05d77dc",
   "metadata": {},
   "outputs": [
    {
     "data": {
      "text/plain": [
       "0"
      ]
     },
     "execution_count": 142,
     "metadata": {},
     "output_type": "execute_result"
    }
   ],
   "source": [
    "df1.isnull().sum().sum()"
   ]
  },
  {
   "cell_type": "code",
   "execution_count": 137,
   "id": "64144a86",
   "metadata": {},
   "outputs": [],
   "source": [
    "df1.drop_duplicates(inplace=True)"
   ]
  },
  {
   "cell_type": "code",
   "execution_count": 138,
   "id": "c77c3de8",
   "metadata": {},
   "outputs": [
    {
     "data": {
      "text/html": [
       "<div>\n",
       "<style scoped>\n",
       "    .dataframe tbody tr th:only-of-type {\n",
       "        vertical-align: middle;\n",
       "    }\n",
       "\n",
       "    .dataframe tbody tr th {\n",
       "        vertical-align: top;\n",
       "    }\n",
       "\n",
       "    .dataframe thead th {\n",
       "        text-align: right;\n",
       "    }\n",
       "</style>\n",
       "<table border=\"1\" class=\"dataframe\">\n",
       "  <thead>\n",
       "    <tr style=\"text-align: right;\">\n",
       "      <th></th>\n",
       "      <th>Product</th>\n",
       "      <th>Price</th>\n",
       "    </tr>\n",
       "  </thead>\n",
       "  <tbody>\n",
       "    <tr>\n",
       "      <th>0</th>\n",
       "      <td>Samsung Galaxy A14</td>\n",
       "      <td>36699</td>\n",
       "    </tr>\n",
       "    <tr>\n",
       "      <th>1</th>\n",
       "      <td>Samsung Galaxy A54</td>\n",
       "      <td>117999</td>\n",
       "    </tr>\n",
       "    <tr>\n",
       "      <th>2</th>\n",
       "      <td>Samsung Galaxy S22 Ultra</td>\n",
       "      <td>341999</td>\n",
       "    </tr>\n",
       "    <tr>\n",
       "      <th>3</th>\n",
       "      <td>Samsung Galaxy A03</td>\n",
       "      <td>35299</td>\n",
       "    </tr>\n",
       "    <tr>\n",
       "      <th>4</th>\n",
       "      <td>Samsung Galaxy S23 Ultra</td>\n",
       "      <td>288999</td>\n",
       "    </tr>\n",
       "    <tr>\n",
       "      <th>5</th>\n",
       "      <td>Samsung Galaxy A04s</td>\n",
       "      <td>39700</td>\n",
       "    </tr>\n",
       "    <tr>\n",
       "      <th>6</th>\n",
       "      <td>Samsung Galaxy A24</td>\n",
       "      <td>76099</td>\n",
       "    </tr>\n",
       "    <tr>\n",
       "      <th>7</th>\n",
       "      <td>Samsung Galaxy A13</td>\n",
       "      <td>50499</td>\n",
       "    </tr>\n",
       "    <tr>\n",
       "      <th>8</th>\n",
       "      <td>Samsung Galaxy A04</td>\n",
       "      <td>35399</td>\n",
       "    </tr>\n",
       "    <tr>\n",
       "      <th>9</th>\n",
       "      <td>Samsung Galaxy Z Flip 4</td>\n",
       "      <td>224999</td>\n",
       "    </tr>\n",
       "    <tr>\n",
       "      <th>10</th>\n",
       "      <td>Samsung Galaxy A04</td>\n",
       "      <td>34999</td>\n",
       "    </tr>\n",
       "    <tr>\n",
       "      <th>11</th>\n",
       "      <td>Samsung Galaxy A24</td>\n",
       "      <td>71099</td>\n",
       "    </tr>\n",
       "    <tr>\n",
       "      <th>12</th>\n",
       "      <td>Samsung Galaxy A14</td>\n",
       "      <td>54399</td>\n",
       "    </tr>\n",
       "    <tr>\n",
       "      <th>13</th>\n",
       "      <td>Samsung Galaxy A54</td>\n",
       "      <td>139099</td>\n",
       "    </tr>\n",
       "    <tr>\n",
       "      <th>14</th>\n",
       "      <td>Samsung Galaxy A54</td>\n",
       "      <td>166599</td>\n",
       "    </tr>\n",
       "    <tr>\n",
       "      <th>15</th>\n",
       "      <td>Samsung Galaxy A14</td>\n",
       "      <td>52299</td>\n",
       "    </tr>\n",
       "    <tr>\n",
       "      <th>17</th>\n",
       "      <td>Samsung Galaxy A34</td>\n",
       "      <td>142499</td>\n",
       "    </tr>\n",
       "    <tr>\n",
       "      <th>18</th>\n",
       "      <td>Samsung Galaxy A04</td>\n",
       "      <td>39399</td>\n",
       "    </tr>\n",
       "    <tr>\n",
       "      <th>22</th>\n",
       "      <td>Samsung Galaxy A13</td>\n",
       "      <td>53499</td>\n",
       "    </tr>\n",
       "  </tbody>\n",
       "</table>\n",
       "</div>"
      ],
      "text/plain": [
       "                     Product    Price\n",
       "0         Samsung Galaxy A14    36699\n",
       "1         Samsung Galaxy A54   117999\n",
       "2   Samsung Galaxy S22 Ultra   341999\n",
       "3         Samsung Galaxy A03    35299\n",
       "4   Samsung Galaxy S23 Ultra   288999\n",
       "5        Samsung Galaxy A04s    39700\n",
       "6         Samsung Galaxy A24    76099\n",
       "7         Samsung Galaxy A13    50499\n",
       "8         Samsung Galaxy A04    35399\n",
       "9    Samsung Galaxy Z Flip 4   224999\n",
       "10        Samsung Galaxy A04    34999\n",
       "11        Samsung Galaxy A24    71099\n",
       "12        Samsung Galaxy A14    54399\n",
       "13        Samsung Galaxy A54   139099\n",
       "14        Samsung Galaxy A54   166599\n",
       "15        Samsung Galaxy A14    52299\n",
       "17        Samsung Galaxy A34   142499\n",
       "18        Samsung Galaxy A04    39399\n",
       "22        Samsung Galaxy A13    53499"
      ]
     },
     "execution_count": 138,
     "metadata": {},
     "output_type": "execute_result"
    }
   ],
   "source": [
    "df1"
   ]
  },
  {
   "cell_type": "markdown",
   "id": "652a4f70",
   "metadata": {},
   "source": [
    "# Web Scrapping of Samsung Phones (Product) from Priceoye (E-Commerce Website)"
   ]
  },
  {
   "cell_type": "code",
   "execution_count": 105,
   "id": "ada2e43c",
   "metadata": {},
   "outputs": [],
   "source": [
    "r2=requests.get(url2)"
   ]
  },
  {
   "cell_type": "code",
   "execution_count": 89,
   "id": "9430d693",
   "metadata": {},
   "outputs": [],
   "source": [
    "soup2=BeautifulSoup(r2.text,\"lxml\")"
   ]
  },
  {
   "cell_type": "code",
   "execution_count": 90,
   "id": "d4e7fcaf",
   "metadata": {},
   "outputs": [],
   "source": [
    "# Find all elements with class \"ProductDetails\"\n",
    "name2 = soup2.find_all('div', class_='p-title bold h5')\n",
    "price2 = soup2.find_all('div', class_='price-box p1')"
   ]
  },
  {
   "cell_type": "code",
   "execution_count": 91,
   "id": "2e3889d0",
   "metadata": {},
   "outputs": [],
   "source": [
    "# name2 = soup2.find_all('div', class_='https://www.google.com/search?q=price-box+p1&oq=price-box+p1&gs_lcrp=EgZjaHJvbWUyBggAEEUYOdIBBjY5ajBqN6gCALACAA&sourceid=chrome&ie=UTF-8')"
   ]
  },
  {
   "cell_type": "code",
   "execution_count": 92,
   "id": "6dfcac2e",
   "metadata": {},
   "outputs": [],
   "source": [
    "# print(\"hello\")\n",
    "# name2\n",
    "# price2"
   ]
  },
  {
   "cell_type": "code",
   "execution_count": 93,
   "id": "fba4d543",
   "metadata": {},
   "outputs": [],
   "source": [
    "# Initialize lists to store product names and prices\n",
    "product_names = []\n",
    "product_prices = []\n",
    "# Loop through each product listing\n",
    "for name in name2:\n",
    "    product_name = name.text.strip()\n",
    "    product_names.append(product_name)\n",
    "    \n",
    "for price in price2:\n",
    "    product_price = price.text.strip()\n",
    "    product_prices.append(product_price)    "
   ]
  },
  {
   "cell_type": "code",
   "execution_count": 96,
   "id": "864cc0eb",
   "metadata": {},
   "outputs": [
    {
     "data": {
      "text/plain": [
       "35"
      ]
     },
     "execution_count": 96,
     "metadata": {},
     "output_type": "execute_result"
    }
   ],
   "source": [
    "len(product_prices)"
   ]
  },
  {
   "cell_type": "code",
   "execution_count": 121,
   "id": "4b2ecc42",
   "metadata": {},
   "outputs": [],
   "source": [
    "# Create a DataFrame with two columns\n",
    "df2 = pd.DataFrame({'Product': product_names, 'Price': product_prices})\n",
    "\n",
    "# Print the DataFrame\n",
    "# print(df2)"
   ]
  },
  {
   "cell_type": "code",
   "execution_count": 122,
   "id": "11c05122",
   "metadata": {},
   "outputs": [
    {
     "name": "stdout",
     "output_type": "stream",
     "text": [
      "                       Product     Price\n",
      "0           Samsung Galaxy A13    45,799\n",
      "1           Samsung Galaxy A14    49,999\n",
      "2           Samsung Galaxy A04    27,199\n",
      "3        Samsung Galaxy S21 FE   194,999\n",
      "4          Samsung Galaxy A04e    29,099\n",
      "5        Samsung Galaxy A24 4G    67,499\n",
      "6      Samsung Galaxy Z Flip 5   349,999\n",
      "7        Samsung Galaxy A33 5G   105,999\n",
      "8     Samsung Galaxy S22 Ultra   375,499\n",
      "9        Samsung Galaxy A54 5G   140,999\n",
      "10     Samsung Galaxy Z Fold 5   551,499\n",
      "11     Samsung Galaxy Z Fold 4   499,999\n",
      "12     Samsung Galaxy Z Flip 4   255,499\n",
      "13          Samsung Galaxy A03    26,799\n",
      "14         Samsung Galaxy A04s    36,199\n",
      "15    Samsung Galaxy S23 Ultra   560,499\n",
      "16          Samsung Galaxy A34   104,999\n",
      "17          Samsung Galaxy A22    66,499\n",
      "18       Samsung Galaxy A53 5G   121,499\n",
      "19          Samsung Galaxy S22   265,999\n",
      "20          Samsung Galaxy S23   359,999\n",
      "21          Samsung Galaxy A73   197,999\n",
      "22          Samsung Galaxy A32    79,999\n",
      "23          Samsung Galaxy A23    74,199\n",
      "24          Samsung Galaxy M04    29,999\n",
      "25          Samsung Galaxy M24    64,999\n",
      "26       Samsung Galaxy M34 5G    69,999\n",
      "27          Samsung Galaxy M54    79,999\n",
      "28     Samsung Galaxy S23 Plus   499,000\n",
      "29          Samsung Galaxy F54    74,499\n",
      "30       Samsung Galaxy Z Flip   131,999\n",
      "31  Samsung Galaxy Z Fold 3 5G   305,999\n",
      "32    Samsung Galaxy S21 Ultra   225,499\n",
      "33       Samsung Galaxy S20 FE    95,999\n",
      "34      Samsung Galaxy A52s 5G    84,999\n"
     ]
    },
    {
     "name": "stderr",
     "output_type": "stream",
     "text": [
      "C:\\Users\\Comfinite\\AppData\\Local\\Temp\\ipykernel_1112\\3391461902.py:2: FutureWarning: The default value of regex will change from True to False in a future version.\n",
      "  df2['Price'] = df2['Price'].str.replace('Rs.', '')\n"
     ]
    }
   ],
   "source": [
    "# Remove \"Rs\" from the \"Price\" column\n",
    "df2['Price'] = df2['Price'].str.replace('Rs.', '')\n",
    "\n",
    "# Print the updated DataFrame\n",
    "print(df2)"
   ]
  },
  {
   "cell_type": "code",
   "execution_count": 126,
   "id": "5583b163",
   "metadata": {},
   "outputs": [
    {
     "name": "stdout",
     "output_type": "stream",
     "text": [
      "                       Product    Price\n",
      "0           Samsung Galaxy A13    45799\n",
      "1           Samsung Galaxy A14    49999\n",
      "2           Samsung Galaxy A04    27199\n",
      "3        Samsung Galaxy S21 FE   194999\n",
      "4          Samsung Galaxy A04e    29099\n",
      "5        Samsung Galaxy A24 4G    67499\n",
      "6      Samsung Galaxy Z Flip 5   349999\n",
      "7        Samsung Galaxy A33 5G   105999\n",
      "8     Samsung Galaxy S22 Ultra   375499\n",
      "9        Samsung Galaxy A54 5G   140999\n",
      "10     Samsung Galaxy Z Fold 5   551499\n",
      "11     Samsung Galaxy Z Fold 4   499999\n",
      "12     Samsung Galaxy Z Flip 4   255499\n",
      "13          Samsung Galaxy A03    26799\n",
      "14         Samsung Galaxy A04s    36199\n",
      "15    Samsung Galaxy S23 Ultra   560499\n",
      "16          Samsung Galaxy A34   104999\n",
      "17          Samsung Galaxy A22    66499\n",
      "18       Samsung Galaxy A53 5G   121499\n",
      "19          Samsung Galaxy S22   265999\n",
      "20          Samsung Galaxy S23   359999\n",
      "21          Samsung Galaxy A73   197999\n",
      "22          Samsung Galaxy A32    79999\n",
      "23          Samsung Galaxy A23    74199\n",
      "24          Samsung Galaxy M04    29999\n",
      "25          Samsung Galaxy M24    64999\n",
      "26       Samsung Galaxy M34 5G    69999\n",
      "27          Samsung Galaxy M54    79999\n",
      "28     Samsung Galaxy S23 Plus   499000\n",
      "29          Samsung Galaxy F54    74499\n",
      "30       Samsung Galaxy Z Flip   131999\n",
      "31  Samsung Galaxy Z Fold 3 5G   305999\n",
      "32    Samsung Galaxy S21 Ultra   225499\n",
      "33       Samsung Galaxy S20 FE    95999\n",
      "34      Samsung Galaxy A52s 5G    84999\n"
     ]
    }
   ],
   "source": [
    "# Remove \"Rs\" from the \"Price\" column\n",
    "df2['Price'] = df2['Price'].str.replace(',', '')\n",
    "\n",
    "# Print the updated DataFrame\n",
    "print(df2)"
   ]
  },
  {
   "cell_type": "code",
   "execution_count": 140,
   "id": "cc68bed2",
   "metadata": {},
   "outputs": [
    {
     "data": {
      "text/plain": [
       "0"
      ]
     },
     "execution_count": 140,
     "metadata": {},
     "output_type": "execute_result"
    }
   ],
   "source": [
    "df2.duplicated().sum()"
   ]
  },
  {
   "cell_type": "code",
   "execution_count": 143,
   "id": "0e9917c1",
   "metadata": {},
   "outputs": [
    {
     "data": {
      "text/plain": [
       "0"
      ]
     },
     "execution_count": 143,
     "metadata": {},
     "output_type": "execute_result"
    }
   ],
   "source": [
    "df1.isnull().sum().sum()"
   ]
  },
  {
   "cell_type": "code",
   "execution_count": 127,
   "id": "5f74b4f5",
   "metadata": {},
   "outputs": [],
   "source": [
    "# # Remove \"Rs\" from the \"Price\" column\n",
    "# df1['Price'] = df1['Price'].str.replace('Rs.', '')\n",
    "\n",
    "# # Print the updated DataFrame\n",
    "# print(df1)"
   ]
  },
  {
   "cell_type": "code",
   "execution_count": 144,
   "id": "7b9c1989",
   "metadata": {},
   "outputs": [
    {
     "data": {
      "text/plain": [
       "(                     Product    Price\n",
       " 0         Samsung Galaxy A14    36699\n",
       " 1         Samsung Galaxy A54   117999\n",
       " 2   Samsung Galaxy S22 Ultra   341999\n",
       " 3         Samsung Galaxy A03    35299\n",
       " 4   Samsung Galaxy S23 Ultra   288999\n",
       " 5        Samsung Galaxy A04s    39700\n",
       " 6         Samsung Galaxy A24    76099\n",
       " 7         Samsung Galaxy A13    50499\n",
       " 8         Samsung Galaxy A04    35399\n",
       " 9    Samsung Galaxy Z Flip 4   224999\n",
       " 10        Samsung Galaxy A04    34999\n",
       " 11        Samsung Galaxy A24    71099\n",
       " 12        Samsung Galaxy A14    54399\n",
       " 13        Samsung Galaxy A54   139099\n",
       " 14        Samsung Galaxy A54   166599\n",
       " 15        Samsung Galaxy A14    52299\n",
       " 17        Samsung Galaxy A34   142499\n",
       " 18        Samsung Galaxy A04    39399\n",
       " 22        Samsung Galaxy A13    53499,\n",
       "                        Product    Price\n",
       " 0           Samsung Galaxy A13    45799\n",
       " 1           Samsung Galaxy A14    49999\n",
       " 2           Samsung Galaxy A04    27199\n",
       " 3        Samsung Galaxy S21 FE   194999\n",
       " 4          Samsung Galaxy A04e    29099\n",
       " 5        Samsung Galaxy A24 4G    67499\n",
       " 6      Samsung Galaxy Z Flip 5   349999\n",
       " 7        Samsung Galaxy A33 5G   105999\n",
       " 8     Samsung Galaxy S22 Ultra   375499\n",
       " 9        Samsung Galaxy A54 5G   140999\n",
       " 10     Samsung Galaxy Z Fold 5   551499\n",
       " 11     Samsung Galaxy Z Fold 4   499999\n",
       " 12     Samsung Galaxy Z Flip 4   255499\n",
       " 13          Samsung Galaxy A03    26799\n",
       " 14         Samsung Galaxy A04s    36199\n",
       " 15    Samsung Galaxy S23 Ultra   560499\n",
       " 16          Samsung Galaxy A34   104999\n",
       " 17          Samsung Galaxy A22    66499\n",
       " 18       Samsung Galaxy A53 5G   121499\n",
       " 19          Samsung Galaxy S22   265999\n",
       " 20          Samsung Galaxy S23   359999\n",
       " 21          Samsung Galaxy A73   197999\n",
       " 22          Samsung Galaxy A32    79999\n",
       " 23          Samsung Galaxy A23    74199\n",
       " 24          Samsung Galaxy M04    29999\n",
       " 25          Samsung Galaxy M24    64999\n",
       " 26       Samsung Galaxy M34 5G    69999\n",
       " 27          Samsung Galaxy M54    79999\n",
       " 28     Samsung Galaxy S23 Plus   499000\n",
       " 29          Samsung Galaxy F54    74499\n",
       " 30       Samsung Galaxy Z Flip   131999\n",
       " 31  Samsung Galaxy Z Fold 3 5G   305999\n",
       " 32    Samsung Galaxy S21 Ultra   225499\n",
       " 33       Samsung Galaxy S20 FE    95999\n",
       " 34      Samsung Galaxy A52s 5G    84999)"
      ]
     },
     "execution_count": 144,
     "metadata": {},
     "output_type": "execute_result"
    }
   ],
   "source": [
    "df1,df2"
   ]
  },
  {
   "cell_type": "markdown",
   "id": "1a1311b5",
   "metadata": {},
   "source": [
    "# Comparing price of Samsung Galaxy A04"
   ]
  },
  {
   "cell_type": "code",
   "execution_count": 145,
   "id": "1748a8b9",
   "metadata": {},
   "outputs": [
    {
     "name": "stdout",
     "output_type": "stream",
     "text": [
      "Comparing Samsung Galaxy A04, it has a better price on Priceoye Website.\n"
     ]
    }
   ],
   "source": [
    "\n",
    "product_to_compare = 'Samsung Galaxy A04'\n",
    "\n",
    "# Retrieve the prices of 'Samsung Galaxy A04' from df1 and df2\n",
    "price_web1 = df1[df1['Product'] == product_to_compare]['Price'].values[0]\n",
    "price_web2 = df2[df2['Product'] == product_to_compare]['Price'].values[0]\n",
    "\n",
    "# Compare the prices and determine which website offers the better price\n",
    "better_website = 'Homeshopping Website' if price_web1 < price_web2 else 'Priceoye Website'\n",
    "\n",
    "print(f\"Comparing {product_to_compare}, it has a better price on {better_website}.\")\n"
   ]
  }
 ],
 "metadata": {
  "kernelspec": {
   "display_name": "Python 3 (ipykernel)",
   "language": "python",
   "name": "python3"
  },
  "language_info": {
   "codemirror_mode": {
    "name": "ipython",
    "version": 3
   },
   "file_extension": ".py",
   "mimetype": "text/x-python",
   "name": "python",
   "nbconvert_exporter": "python",
   "pygments_lexer": "ipython3",
   "version": "3.11.3"
  }
 },
 "nbformat": 4,
 "nbformat_minor": 5
}
