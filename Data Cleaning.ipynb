{
 "cells": [
  {
   "cell_type": "code",
   "execution_count": 15,
   "id": "77cedd29",
   "metadata": {},
   "outputs": [],
   "source": [
    "import requests\n",
    "from bs4 import BeautifulSoup"
   ]
  },
  {
   "cell_type": "code",
   "execution_count": 16,
   "id": "d03a45ed",
   "metadata": {},
   "outputs": [],
   "source": [
    "url1=\"https://www.daraz.pk/catalog/?spm=a2a0e.home.cate_7_1.12.1a014076iZT31f&q=samsung%20%20mobile&_keyori=ss&clickTrackInfo=textId--5062603309516099878__abId--300703__pvid--35b2f2d7-4e10-4983-9732-723540879cb9__matchType--1__srcQuery--samsung%20%20mobile__spellQuery--samsung%20%20mobile&from=suggest_normal&sugg=samsung%20%20mobile_1_1\"\n",
    "url2=\"https://priceoye.pk/mobiles/samsung\"\n",
    "url3=\"https://homeshopping.pk/categories/Samsung-Mobile-Prices-In-Pakistan/\""
   ]
  },
  {
   "cell_type": "code",
   "execution_count": 26,
   "id": "4ae39227",
   "metadata": {},
   "outputs": [],
   "source": [
    "r1=requests.get(url1)"
   ]
  },
  {
   "cell_type": "code",
   "execution_count": 27,
   "id": "276dd3ab",
   "metadata": {},
   "outputs": [],
   "source": [
    "r2=requests.get(url2)"
   ]
  },
  {
   "cell_type": "code",
   "execution_count": 28,
   "id": "e264cda0",
   "metadata": {},
   "outputs": [],
   "source": [
    "r3=requests.get(url3)"
   ]
  },
  {
   "cell_type": "code",
   "execution_count": 33,
   "id": "bf18c015",
   "metadata": {},
   "outputs": [],
   "source": [
    "soup=BeautifulSoup(r3.text,\"lxml\")"
   ]
  },
  {
   "cell_type": "code",
   "execution_count": 58,
   "id": "cc7febe9",
   "metadata": {},
   "outputs": [],
   "source": [
    "# soup.find_all('h5',class_ =\"ProductDetails\")"
   ]
  },
  {
   "cell_type": "code",
   "execution_count": 42,
   "id": "20f850ff",
   "metadata": {},
   "outputs": [
    {
     "data": {
      "text/plain": [
       "'Samsung Galaxy A14 (4G 4GB 64GB Black Mist w/o warranty) - PTA Approved'"
      ]
     },
     "execution_count": 42,
     "metadata": {},
     "output_type": "execute_result"
    }
   ],
   "source": [
    "soup.find('h5', class_='ProductDetails').a.text\n"
   ]
  },
  {
   "cell_type": "code",
   "execution_count": 52,
   "id": "8da4a4d6",
   "metadata": {},
   "outputs": [],
   "source": [
    "# soup.find_all('h5', class_='ProductDetails')"
   ]
  },
  {
   "cell_type": "code",
   "execution_count": 49,
   "id": "2f180229",
   "metadata": {},
   "outputs": [],
   "source": [
    "names=soup.find_all('h5', class_='ProductDetails')\n"
   ]
  },
  {
   "cell_type": "code",
   "execution_count": 50,
   "id": "deb6c9d2",
   "metadata": {},
   "outputs": [
    {
     "name": "stdout",
     "output_type": "stream",
     "text": [
      "\n",
      "Samsung Galaxy A14 (4G 4GB 64GB Black Mist w/o warranty) - PTA Approved\n",
      "\n",
      "\n",
      "Samsung Galaxy A54 (5G 8GB 128GB Awesome Graphite w/o warranty) - PTA Approved\n",
      "\n",
      "\n",
      "Samsung Galaxy S22 Ultra (5G 12GB 256GB Burgundy) With Official Warranty\n",
      "\n",
      "\n",
      "Samsung Galaxy A03 (4G 4GB 64GB Black) With Official Warranty\n",
      "\n",
      "\n",
      "Samsung Galaxy S23 Ultra (5G 12GB 256GB Green) - Non PTA\n",
      "\n",
      "\n",
      "Samsung Galaxy A04s (4G 4GB 128GB Awesome White) With Official Warranty\n",
      "\n",
      "\n",
      "Samsung Galaxy A24 (4G 8GB 128GB Silver) With Official Warranty\n",
      "\n",
      "\n",
      "Samsung Galaxy A13 (4G 4GB 64GB Awesome Black) With Official Warranty\n",
      "\n",
      "\n",
      "Samsung Galaxy A04 (4G 4GB 64GB Black) With Official Warranty\n",
      "\n",
      "\n",
      "Samsung Galaxy A04 (4G 3GB 32GB Green) With Official Warranty\n",
      "\n",
      "\n",
      "Samsung Galaxy Z Flip 4 (5G 8GB 256GB Blue) - With Official Warranty\n",
      "\n",
      "\n",
      "Samsung Galaxy A24 (4G 6GB 128GB Black) With Official Warranty\n",
      "\n",
      "\n",
      "Samsung Galaxy A14 (4G 6GB 128GB Green) - With Official Warranty\n",
      "\n",
      "\n",
      "Samsung Galaxy A54 (5G 8GB 128GB Awesome Lime) - With Official Warranty\n",
      "\n",
      "\n",
      "Samsung Galaxy A14 (4G 4GB 128GB Black Mist) - With Official Warranty\n",
      "\n",
      "\n",
      "Samsung Galaxy A54 (5G 8GB 128GB Awesome Graphite) - With Official Warranty\n",
      "\n",
      "\n",
      "Samsung Galaxy A34 (5G 8GB 128GB Awesome Lime) With Official Warranty\n",
      "\n",
      "\n",
      "Samsung Galaxy S22 Ultra (5G 12GB 256GB White) With Official Warranty \n",
      "\n",
      "\n",
      "Samsung Galaxy A04 (4G 4GB 64GB White) With Official Warranty\n",
      "\n",
      "\n",
      "Samsung Galaxy S23 Ultra (5G 12GB 256GB Cream) - Non PTA\n",
      "\n",
      "\n",
      "Samsung Galaxy A14 (4G 4GB 128GB Green) - With Official Warranty\n",
      "\n",
      "\n",
      "Samsung Galaxy A13 (4G 4GB 128GB Awesome Black) With Official Warranty\n",
      "\n",
      "\n",
      "Samsung Galaxy A54 (5G 8GB 128GB Awesome White) - With Official Warranty\n",
      "\n",
      "\n",
      "Samsung Galaxy A13 (4G 4GB 64GB Awesome Blue) With Official Warranty\n",
      "\n"
     ]
    }
   ],
   "source": [
    "for i in names:\n",
    "    print(i.text)"
   ]
  },
  {
   "cell_type": "code",
   "execution_count": 57,
   "id": "dd512cbf",
   "metadata": {},
   "outputs": [],
   "source": [
    "price_elements = soup.find_all('div', class_='ActualPrice')\n"
   ]
  },
  {
   "cell_type": "code",
   "execution_count": 56,
   "id": "f28a2a57",
   "metadata": {},
   "outputs": [
    {
     "name": "stdout",
     "output_type": "stream",
     "text": [
      " Rs 36,699\n",
      " Rs 117,999\n",
      " Rs 341,999\n",
      " Rs 35,299\n",
      " Rs 288,999\n",
      " Rs 39,700\n",
      " Rs 76,099\n",
      " Rs 50,499\n",
      " Rs 35,399\n",
      " Rs 34,999\n",
      " Rs 224,999\n",
      " Rs 71,099\n",
      " Rs 54,399\n",
      " Rs 166,599\n",
      " Rs 52,299\n",
      " Rs 139,099\n",
      " Rs 142,499\n",
      " Rs 341,999\n",
      " Rs 39,399\n",
      " Rs 288,999\n",
      " Rs 52,299\n",
      " Rs 53,499\n",
      " Rs 139,099\n",
      " Rs 50,499\n"
     ]
    }
   ],
   "source": [
    "for i in price_elements:\n",
    "    print(i.text)"
   ]
  },
  {
   "cell_type": "code",
   "execution_count": 59,
   "id": "8801ef8e",
   "metadata": {},
   "outputs": [],
   "source": [
    "import pandas as pd"
   ]
  },
  {
   "cell_type": "code",
   "execution_count": 60,
   "id": "f614b18e",
   "metadata": {},
   "outputs": [],
   "source": [
    "# Find all elements with class \"ProductDetails\"\n",
    "names = soup.find_all('h5', class_='ProductDetails')\n",
    "\n",
    "# Initialize lists to store product names and prices\n",
    "product_names = []\n",
    "\n",
    "\n",
    "# Loop through each product listing\n",
    "for name in names:\n",
    "    product_name = name.a.text.strip()\n",
    "    product_names.append(product_name)"
   ]
  },
  {
   "cell_type": "code",
   "execution_count": 63,
   "id": "832a2849",
   "metadata": {},
   "outputs": [],
   "source": [
    "# Find all elements with class \"ActualPrice\"\n",
    "# price_elements = soup.find_all('div', class='ActualPrice')\n",
    "price_elements = soup.find_all('div', class_='ActualPrice')\n",
    "prices = [] \n",
    "\n",
    "# Loop through each price element\n",
    "for price_element in price_elements:\n",
    "    price = price_element.text.strip()\n",
    "    prices.append(price)"
   ]
  },
  {
   "cell_type": "code",
   "execution_count": 64,
   "id": "699c5fd5",
   "metadata": {},
   "outputs": [
    {
     "name": "stdout",
     "output_type": "stream",
     "text": [
      "                                              Details       Price\n",
      "0   Samsung Galaxy A14 (4G 4GB 64GB Black Mist w/o...   Rs 36,699\n",
      "1   Samsung Galaxy A54 (5G 8GB 128GB Awesome Graph...  Rs 117,999\n",
      "2   Samsung Galaxy S22 Ultra (5G 12GB 256GB Burgun...  Rs 341,999\n",
      "3   Samsung Galaxy A03 (4G 4GB 64GB Black) With Of...   Rs 35,299\n",
      "4   Samsung Galaxy S23 Ultra (5G 12GB 256GB Green)...  Rs 288,999\n",
      "5   Samsung Galaxy A04s (4G 4GB 128GB Awesome Whit...   Rs 39,700\n",
      "6   Samsung Galaxy A24 (4G 8GB 128GB Silver) With ...   Rs 76,099\n",
      "7   Samsung Galaxy A13 (4G 4GB 64GB Awesome Black)...   Rs 50,499\n",
      "8   Samsung Galaxy A04 (4G 4GB 64GB Black) With Of...   Rs 35,399\n",
      "9   Samsung Galaxy A04 (4G 3GB 32GB Green) With Of...   Rs 34,999\n",
      "10  Samsung Galaxy Z Flip 4 (5G 8GB 256GB Blue) - ...  Rs 224,999\n",
      "11  Samsung Galaxy A24 (4G 6GB 128GB Black) With O...   Rs 71,099\n",
      "12  Samsung Galaxy A14 (4G 6GB 128GB Green) - With...   Rs 54,399\n",
      "13  Samsung Galaxy A54 (5G 8GB 128GB Awesome Lime)...  Rs 166,599\n",
      "14  Samsung Galaxy A14 (4G 4GB 128GB Black Mist) -...   Rs 52,299\n",
      "15  Samsung Galaxy A54 (5G 8GB 128GB Awesome Graph...  Rs 139,099\n",
      "16  Samsung Galaxy A34 (5G 8GB 128GB Awesome Lime)...  Rs 142,499\n",
      "17  Samsung Galaxy S22 Ultra (5G 12GB 256GB White)...  Rs 341,999\n",
      "18  Samsung Galaxy A04 (4G 4GB 64GB White) With Of...   Rs 39,399\n",
      "19  Samsung Galaxy S23 Ultra (5G 12GB 256GB Cream)...  Rs 288,999\n",
      "20  Samsung Galaxy A14 (4G 4GB 128GB Green) - With...   Rs 52,299\n",
      "21  Samsung Galaxy A13 (4G 4GB 128GB Awesome Black...   Rs 53,499\n",
      "22  Samsung Galaxy A54 (5G 8GB 128GB Awesome White...  Rs 139,099\n",
      "23  Samsung Galaxy A13 (4G 4GB 64GB Awesome Blue) ...   Rs 50,499\n"
     ]
    }
   ],
   "source": [
    "# Create a DataFrame with two columns\n",
    "df = pd.DataFrame({'Details': product_names, 'Price': prices})\n",
    "\n",
    "# Print the DataFrame\n",
    "print(df)"
   ]
  },
  {
   "cell_type": "code",
   "execution_count": 65,
   "id": "74f118a3",
   "metadata": {},
   "outputs": [
    {
     "data": {
      "text/plain": [
       "0     Samsung Galaxy A14 (4G 4GB 64GB Black Mist w/o...\n",
       "1     Samsung Galaxy A54 (5G 8GB 128GB Awesome Graph...\n",
       "2     Samsung Galaxy S22 Ultra (5G 12GB 256GB Burgun...\n",
       "3     Samsung Galaxy A03 (4G 4GB 64GB Black) With Of...\n",
       "4     Samsung Galaxy S23 Ultra (5G 12GB 256GB Green)...\n",
       "5     Samsung Galaxy A04s (4G 4GB 128GB Awesome Whit...\n",
       "6     Samsung Galaxy A24 (4G 8GB 128GB Silver) With ...\n",
       "7     Samsung Galaxy A13 (4G 4GB 64GB Awesome Black)...\n",
       "8     Samsung Galaxy A04 (4G 4GB 64GB Black) With Of...\n",
       "9     Samsung Galaxy A04 (4G 3GB 32GB Green) With Of...\n",
       "10    Samsung Galaxy Z Flip 4 (5G 8GB 256GB Blue) - ...\n",
       "11    Samsung Galaxy A24 (4G 6GB 128GB Black) With O...\n",
       "12    Samsung Galaxy A14 (4G 6GB 128GB Green) - With...\n",
       "13    Samsung Galaxy A54 (5G 8GB 128GB Awesome Lime)...\n",
       "14    Samsung Galaxy A14 (4G 4GB 128GB Black Mist) -...\n",
       "15    Samsung Galaxy A54 (5G 8GB 128GB Awesome Graph...\n",
       "16    Samsung Galaxy A34 (5G 8GB 128GB Awesome Lime)...\n",
       "17    Samsung Galaxy S22 Ultra (5G 12GB 256GB White)...\n",
       "18    Samsung Galaxy A04 (4G 4GB 64GB White) With Of...\n",
       "19    Samsung Galaxy S23 Ultra (5G 12GB 256GB Cream)...\n",
       "20    Samsung Galaxy A14 (4G 4GB 128GB Green) - With...\n",
       "21    Samsung Galaxy A13 (4G 4GB 128GB Awesome Black...\n",
       "22    Samsung Galaxy A54 (5G 8GB 128GB Awesome White...\n",
       "23    Samsung Galaxy A13 (4G 4GB 64GB Awesome Blue) ...\n",
       "Name: Details, dtype: object"
      ]
     },
     "execution_count": 65,
     "metadata": {},
     "output_type": "execute_result"
    }
   ],
   "source": [
    "# Remove text within parentheses using regular expressions\n",
    "df['Details']\n"
   ]
  },
  {
   "cell_type": "code",
   "execution_count": 66,
   "id": "1ee4fa85",
   "metadata": {},
   "outputs": [],
   "source": [
    "# Remove text within parentheses using regular expressions\n",
    "df['Details'] = df['Details'].str.replace(r'\\([^)]*\\)', '', regex=True)\n"
   ]
  },
  {
   "cell_type": "code",
   "execution_count": 73,
   "id": "e06b3f29",
   "metadata": {},
   "outputs": [],
   "source": [
    "# df['Details'].detail()"
   ]
  },
  {
   "cell_type": "code",
   "execution_count": 74,
   "id": "0966a550",
   "metadata": {},
   "outputs": [
    {
     "data": {
      "text/plain": [
       "'Samsung Galaxy A14  - PTA Approved'"
      ]
     },
     "execution_count": 74,
     "metadata": {},
     "output_type": "execute_result"
    }
   ],
   "source": [
    "df['Details'][0]"
   ]
  },
  {
   "cell_type": "code",
   "execution_count": 75,
   "id": "700860bd",
   "metadata": {},
   "outputs": [
    {
     "name": "stdout",
     "output_type": "stream",
     "text": [
      "                                             Details       Price\n",
      "0                                Samsung Galaxy A14    Rs 36,699\n",
      "1                                Samsung Galaxy A54   Rs 117,999\n",
      "2   Samsung Galaxy S22 Ultra  With Official Warranty  Rs 341,999\n",
      "3         Samsung Galaxy A03  With Official Warranty   Rs 35,299\n",
      "4                          Samsung Galaxy S23 Ultra   Rs 288,999\n",
      "5        Samsung Galaxy A04s  With Official Warranty   Rs 39,700\n",
      "6         Samsung Galaxy A24  With Official Warranty   Rs 76,099\n",
      "7         Samsung Galaxy A13  With Official Warranty   Rs 50,499\n",
      "8         Samsung Galaxy A04  With Official Warranty   Rs 35,399\n",
      "9         Samsung Galaxy A04  With Official Warranty   Rs 34,999\n",
      "10                          Samsung Galaxy Z Flip 4   Rs 224,999\n",
      "11        Samsung Galaxy A24  With Official Warranty   Rs 71,099\n",
      "12                               Samsung Galaxy A14    Rs 54,399\n",
      "13                               Samsung Galaxy A54   Rs 166,599\n",
      "14                               Samsung Galaxy A14    Rs 52,299\n",
      "15                               Samsung Galaxy A54   Rs 139,099\n",
      "16        Samsung Galaxy A34  With Official Warranty  Rs 142,499\n",
      "17  Samsung Galaxy S22 Ultra  With Official Warranty  Rs 341,999\n",
      "18        Samsung Galaxy A04  With Official Warranty   Rs 39,399\n",
      "19                         Samsung Galaxy S23 Ultra   Rs 288,999\n",
      "20                               Samsung Galaxy A14    Rs 52,299\n",
      "21        Samsung Galaxy A13  With Official Warranty   Rs 53,499\n",
      "22                               Samsung Galaxy A54   Rs 139,099\n",
      "23        Samsung Galaxy A13  With Official Warranty   Rs 50,499\n"
     ]
    }
   ],
   "source": [
    "# Split the \"Details\" column at the hyphen and keep only the part before the hyphen\n",
    "df['Details'] = df['Details'].str.split(' - ').str[0]\n",
    "\n",
    "# Print the updated DataFrame\n",
    "print(df)"
   ]
  },
  {
   "cell_type": "code",
   "execution_count": 76,
   "id": "63cdb8ad",
   "metadata": {},
   "outputs": [
    {
     "name": "stdout",
     "output_type": "stream",
     "text": [
      "                      Details       Price\n",
      "0         Samsung Galaxy A14    Rs 36,699\n",
      "1         Samsung Galaxy A54   Rs 117,999\n",
      "2    Samsung Galaxy S22 Ultra  Rs 341,999\n",
      "3          Samsung Galaxy A03   Rs 35,299\n",
      "4   Samsung Galaxy S23 Ultra   Rs 288,999\n",
      "5         Samsung Galaxy A04s   Rs 39,700\n",
      "6          Samsung Galaxy A24   Rs 76,099\n",
      "7          Samsung Galaxy A13   Rs 50,499\n",
      "8          Samsung Galaxy A04   Rs 35,399\n",
      "9          Samsung Galaxy A04   Rs 34,999\n",
      "10   Samsung Galaxy Z Flip 4   Rs 224,999\n",
      "11         Samsung Galaxy A24   Rs 71,099\n",
      "12        Samsung Galaxy A14    Rs 54,399\n",
      "13        Samsung Galaxy A54   Rs 166,599\n",
      "14        Samsung Galaxy A14    Rs 52,299\n",
      "15        Samsung Galaxy A54   Rs 139,099\n",
      "16         Samsung Galaxy A34  Rs 142,499\n",
      "17   Samsung Galaxy S22 Ultra  Rs 341,999\n",
      "18         Samsung Galaxy A04   Rs 39,399\n",
      "19  Samsung Galaxy S23 Ultra   Rs 288,999\n",
      "20        Samsung Galaxy A14    Rs 52,299\n",
      "21         Samsung Galaxy A13   Rs 53,499\n",
      "22        Samsung Galaxy A54   Rs 139,099\n",
      "23         Samsung Galaxy A13   Rs 50,499\n"
     ]
    }
   ],
   "source": [
    "# Remove \"With Official Warranty\" if it appears at the end of the \"Details\" column\n",
    "df['Details'] = df['Details'].str.replace(r'\\s*With Official Warranty$', '', regex=True)\n",
    "\n",
    "# Print the updated DataFrame\n",
    "print(df)"
   ]
  },
  {
   "cell_type": "code",
   "execution_count": 77,
   "id": "6fe11310",
   "metadata": {},
   "outputs": [
    {
     "name": "stdout",
     "output_type": "stream",
     "text": [
      "                      Details     Price\n",
      "0         Samsung Galaxy A14     36,699\n",
      "1         Samsung Galaxy A54    117,999\n",
      "2    Samsung Galaxy S22 Ultra   341,999\n",
      "3          Samsung Galaxy A03    35,299\n",
      "4   Samsung Galaxy S23 Ultra    288,999\n",
      "5         Samsung Galaxy A04s    39,700\n",
      "6          Samsung Galaxy A24    76,099\n",
      "7          Samsung Galaxy A13    50,499\n",
      "8          Samsung Galaxy A04    35,399\n",
      "9          Samsung Galaxy A04    34,999\n",
      "10   Samsung Galaxy Z Flip 4    224,999\n",
      "11         Samsung Galaxy A24    71,099\n",
      "12        Samsung Galaxy A14     54,399\n",
      "13        Samsung Galaxy A54    166,599\n",
      "14        Samsung Galaxy A14     52,299\n",
      "15        Samsung Galaxy A54    139,099\n",
      "16         Samsung Galaxy A34   142,499\n",
      "17   Samsung Galaxy S22 Ultra   341,999\n",
      "18         Samsung Galaxy A04    39,399\n",
      "19  Samsung Galaxy S23 Ultra    288,999\n",
      "20        Samsung Galaxy A14     52,299\n",
      "21         Samsung Galaxy A13    53,499\n",
      "22        Samsung Galaxy A54    139,099\n",
      "23         Samsung Galaxy A13    50,499\n"
     ]
    }
   ],
   "source": [
    "# Remove \"Rs\" from the \"Price\" column\n",
    "df['Price'] = df['Price'].str.replace('Rs', '')\n",
    "\n",
    "# Print the updated DataFrame\n",
    "print(df)"
   ]
  },
  {
   "cell_type": "code",
   "execution_count": 78,
   "id": "26611a11",
   "metadata": {},
   "outputs": [
    {
     "name": "stdout",
     "output_type": "stream",
     "text": [
      "                     Details    Price\n",
      "0         Samsung Galaxy A14   36,699\n",
      "1         Samsung Galaxy A54  117,999\n",
      "2   Samsung Galaxy S22 Ultra  341,999\n",
      "3         Samsung Galaxy A03   35,299\n",
      "4   Samsung Galaxy S23 Ultra  288,999\n",
      "5        Samsung Galaxy A04s   39,700\n",
      "6         Samsung Galaxy A24   76,099\n",
      "7         Samsung Galaxy A13   50,499\n",
      "8         Samsung Galaxy A04   35,399\n",
      "9         Samsung Galaxy A04   34,999\n",
      "10   Samsung Galaxy Z Flip 4  224,999\n",
      "11        Samsung Galaxy A24   71,099\n",
      "12        Samsung Galaxy A14   54,399\n",
      "13        Samsung Galaxy A54  166,599\n",
      "14        Samsung Galaxy A14   52,299\n",
      "15        Samsung Galaxy A54  139,099\n",
      "16        Samsung Galaxy A34  142,499\n",
      "17  Samsung Galaxy S22 Ultra  341,999\n",
      "18        Samsung Galaxy A04   39,399\n",
      "19  Samsung Galaxy S23 Ultra  288,999\n",
      "20        Samsung Galaxy A14   52,299\n",
      "21        Samsung Galaxy A13   53,499\n",
      "22        Samsung Galaxy A54  139,099\n",
      "23        Samsung Galaxy A13   50,499\n"
     ]
    }
   ],
   "source": [
    "# Remove leading and trailing spaces from both columns\n",
    "df['Details'] = df['Details'].str.strip()\n",
    "df['Price'] = df['Price'].str.strip()\n",
    "\n",
    "# Print the updated DataFrame\n",
    "print(df)"
   ]
  },
  {
   "cell_type": "code",
   "execution_count": null,
   "id": "ada2e43c",
   "metadata": {},
   "outputs": [],
   "source": []
  }
 ],
 "metadata": {
  "kernelspec": {
   "display_name": "Python 3 (ipykernel)",
   "language": "python",
   "name": "python3"
  },
  "language_info": {
   "codemirror_mode": {
    "name": "ipython",
    "version": 3
   },
   "file_extension": ".py",
   "mimetype": "text/x-python",
   "name": "python",
   "nbconvert_exporter": "python",
   "pygments_lexer": "ipython3",
   "version": "3.11.3"
  }
 },
 "nbformat": 4,
 "nbformat_minor": 5
}
