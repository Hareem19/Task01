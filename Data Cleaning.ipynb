{
 "cells": [
  {
   "cell_type": "markdown",
   "id": "ae88f38e",
   "metadata": {},
   "source": [
    "# Import Libraries"
   ]
  },
  {
   "cell_type": "code",
   "execution_count": 1,
   "id": "77cedd29",
   "metadata": {},
   "outputs": [],
   "source": [
    "import requests\n",
    "from bs4 import BeautifulSoup\n",
    "import pandas as pd"
   ]
  },
  {
   "cell_type": "code",
   "execution_count": 2,
   "id": "d03a45ed",
   "metadata": {},
   "outputs": [],
   "source": [
    "# url1=\"https://www.daraz.pk/catalog/?spm=a2a0e.home.cate_7_1.12.1a014076iZT31f&q=samsung%20%20mobile&_keyori=ss&clickTrackInfo=textId--5062603309516099878__abId--300703__pvid--35b2f2d7-4e10-4983-9732-723540879cb9__matchType--1__srcQuery--samsung%20%20mobile__spellQuery--samsung%20%20mobile&from=suggest_normal&sugg=samsung%20%20mobile_1_1\"\n",
    "url1=\"https://homeshopping.pk/categories/Samsung-Mobile-Prices-In-Pakistan/\"\n",
    "url2=\"https://priceoye.pk/mobiles/samsung\""
   ]
  },
  {
   "cell_type": "markdown",
   "id": "550da15e",
   "metadata": {},
   "source": [
    "# Web Scrapping of Samsung Phones (Product) from Home Shopping (E-Commerce Website)"
   ]
  },
  {
   "cell_type": "code",
   "execution_count": 3,
   "id": "4ae39227",
   "metadata": {},
   "outputs": [],
   "source": [
    "r1=requests.get(url1)"
   ]
  },
  {
   "cell_type": "code",
   "execution_count": 4,
   "id": "bf18c015",
   "metadata": {},
   "outputs": [],
   "source": [
    "soup1=BeautifulSoup(r1.text,\"lxml\")"
   ]
  },
  {
   "cell_type": "code",
   "execution_count": 5,
   "id": "2f180229",
   "metadata": {},
   "outputs": [],
   "source": [
    "# Find all elements with class \"ProductDetails\"\n",
    "name1= soup1.find_all('h5', class_='ProductDetails')"
   ]
  },
  {
   "cell_type": "code",
   "execution_count": 8,
   "id": "dd512cbf",
   "metadata": {},
   "outputs": [],
   "source": [
    "# Find all elements with class \"ActualPrice\"\n",
    "price1= soup1.find_all('div', class_='ActualPrice')"
   ]
  },
  {
   "cell_type": "code",
   "execution_count": 9,
   "id": "f614b18e",
   "metadata": {},
   "outputs": [],
   "source": [
    "# Initialize lists to store product names\n",
    "product_names = []\n",
    "# Loop through each product listing\n",
    "for name in name1:\n",
    "    product_name = name.a.text.strip()\n",
    "    product_names.append(product_name)"
   ]
  },
  {
   "cell_type": "code",
   "execution_count": 10,
   "id": "832a2849",
   "metadata": {},
   "outputs": [],
   "source": [
    "# Initialize lists to store product prices\n",
    "prices = [] \n",
    "# Loop through each price element\n",
    "for price_element in price1:\n",
    "    price = price_element.text.strip()\n",
    "    prices.append(price)"
   ]
  },
  {
   "cell_type": "code",
   "execution_count": 11,
   "id": "699c5fd5",
   "metadata": {},
   "outputs": [
    {
     "name": "stdout",
     "output_type": "stream",
     "text": [
      "                                              Product       Price\n",
      "0   Samsung Galaxy A14 (4G 4GB 64GB Black Mist w/o...   Rs 36,699\n",
      "1   Samsung Galaxy A54 (5G 8GB 128GB Awesome Graph...  Rs 117,999\n",
      "2   Samsung Galaxy S22 Ultra (5G 12GB 256GB Burgun...  Rs 341,999\n",
      "3   Samsung Galaxy A03 (4G 4GB 64GB Black) With Of...   Rs 35,299\n",
      "4   Samsung Galaxy S23 Ultra (5G 12GB 256GB Green)...  Rs 288,999\n",
      "5   Samsung Galaxy A04s (4G 4GB 128GB Awesome Whit...   Rs 39,700\n",
      "6   Samsung Galaxy A24 (4G 8GB 128GB Silver) With ...   Rs 76,099\n",
      "7   Samsung Galaxy Z Flip 4 (5G 8GB 256GB Blue) - ...  Rs 224,999\n",
      "8   Samsung Galaxy A13 (4G 4GB 64GB Awesome Black)...   Rs 50,499\n",
      "9   Samsung Galaxy A04 (4G 4GB 64GB Black) With Of...   Rs 35,399\n",
      "10  Samsung Galaxy A24 (4G 6GB 128GB Black) With O...   Rs 71,099\n",
      "11  Samsung Galaxy A04 (4G 3GB 32GB Green) With Of...   Rs 34,999\n",
      "12  Samsung Galaxy A54 (5G 8GB 128GB Awesome Lime)...  Rs 166,599\n",
      "13  Samsung Galaxy A14 (4G 6GB 128GB Green) - With...   Rs 54,399\n",
      "14  Samsung Galaxy A54 (5G 8GB 128GB Awesome Graph...  Rs 139,099\n",
      "15  Samsung Galaxy A14 (4G 4GB 128GB Black Mist) -...   Rs 52,299\n",
      "16  Samsung Galaxy A13 (4G 4GB 128GB Awesome Black...   Rs 53,499\n",
      "17  Samsung Galaxy A34 (5G 8GB 128GB Awesome Lime)...  Rs 142,499\n",
      "18  Samsung Galaxy A14 (4G 4GB 128GB Green) - With...   Rs 52,299\n",
      "19  Samsung Galaxy S22 Ultra (5G 12GB 256GB White)...  Rs 341,999\n",
      "20  Samsung Galaxy A13 (4G 4GB 64GB Awesome Blue) ...   Rs 50,499\n",
      "21  Samsung Galaxy A04 (4G 4GB 64GB White) With Of...   Rs 39,399\n",
      "22  Samsung Galaxy S23 Ultra (5G 12GB 256GB Cream)...  Rs 288,999\n",
      "23  Samsung Galaxy A04 (4G 4GB 64GB Copper) With O...   Rs 35,399\n"
     ]
    }
   ],
   "source": [
    "# Create a DataFrame with two columns\n",
    "df1 = pd.DataFrame({'Product': product_names, 'Price': prices})\n",
    "\n",
    "# Print the DataFrame\n",
    "print(df1)"
   ]
  },
  {
   "cell_type": "code",
   "execution_count": 12,
   "id": "1ee4fa85",
   "metadata": {},
   "outputs": [],
   "source": [
    "# Remove text within parentheses using regular expressions\n",
    "df1['Product'] = df1['Product'].str.replace(r'\\([^)]*\\)', '', regex=True)"
   ]
  },
  {
   "cell_type": "code",
   "execution_count": 13,
   "id": "700860bd",
   "metadata": {},
   "outputs": [],
   "source": [
    "# Split the \"Details\" column at the hyphen and keep only the part before the hyphen\n",
    "df1['Product'] = df1['Product'].str.split(' - ').str[0]"
   ]
  },
  {
   "cell_type": "code",
   "execution_count": 14,
   "id": "63cdb8ad",
   "metadata": {},
   "outputs": [],
   "source": [
    "# Remove \"With Official Warranty\" if it appears at the end of the \"Details\" column\n",
    "df1['Product'] = df1['Product'].str.replace(r'\\s*With Official Warranty$', '', regex=True)"
   ]
  },
  {
   "cell_type": "code",
   "execution_count": 15,
   "id": "f24092cf",
   "metadata": {},
   "outputs": [],
   "source": [
    "# Remove \"With Official Warranty\" if it appears at the end of the \"Details\" column\n",
    "df1['Product'] = df1['Product'].str.replace(\"-\", '')"
   ]
  },
  {
   "cell_type": "code",
   "execution_count": 16,
   "id": "6fe11310",
   "metadata": {},
   "outputs": [],
   "source": [
    "# Remove \"Rs\" from the \"Price\" column\n",
    "df1['Price'] = df1['Price'].str.replace('Rs', '')"
   ]
  },
  {
   "cell_type": "code",
   "execution_count": 31,
   "id": "c6848bcc",
   "metadata": {},
   "outputs": [],
   "source": [
    "# Remove \",\" from the \"Price\" column\n",
    "df1['Price'] = df1['Price'].str.replace(',', '')"
   ]
  },
  {
   "cell_type": "code",
   "execution_count": 32,
   "id": "26611a11",
   "metadata": {},
   "outputs": [
    {
     "name": "stdout",
     "output_type": "stream",
     "text": [
      "                     Product   Price\n",
      "0         Samsung Galaxy A14   36699\n",
      "1         Samsung Galaxy A54  117999\n",
      "2   Samsung Galaxy S22 Ultra  341999\n",
      "3         Samsung Galaxy A03   35299\n",
      "4   Samsung Galaxy S23 Ultra  288999\n",
      "5        Samsung Galaxy A04s   39700\n",
      "6         Samsung Galaxy A24   76099\n",
      "7    Samsung Galaxy Z Flip 4  224999\n",
      "8         Samsung Galaxy A13   50499\n",
      "9         Samsung Galaxy A04   35399\n",
      "10        Samsung Galaxy A24   71099\n",
      "11        Samsung Galaxy A04   34999\n",
      "12        Samsung Galaxy A54  166599\n",
      "13        Samsung Galaxy A14   54399\n",
      "14        Samsung Galaxy A54  139099\n",
      "15        Samsung Galaxy A14   52299\n",
      "16        Samsung Galaxy A13   53499\n",
      "17        Samsung Galaxy A34  142499\n",
      "21        Samsung Galaxy A04   39399\n"
     ]
    }
   ],
   "source": [
    "# Remove leading and trailing spaces from both columns\n",
    "df1['Product']= df1['Product'].str.strip()\n",
    "df1['Price'] = df1['Price'].str.strip()\n",
    "\n",
    "# Print the updated DataFrame\n",
    "print(df1)"
   ]
  },
  {
   "cell_type": "markdown",
   "id": "4470201a",
   "metadata": {},
   "source": [
    "# Dealing with duplicates and missing values"
   ]
  },
  {
   "cell_type": "code",
   "execution_count": 18,
   "id": "3b5f1694",
   "metadata": {},
   "outputs": [
    {
     "data": {
      "text/plain": [
       "5"
      ]
     },
     "execution_count": 18,
     "metadata": {},
     "output_type": "execute_result"
    }
   ],
   "source": [
    "df1.duplicated().sum()"
   ]
  },
  {
   "cell_type": "code",
   "execution_count": 19,
   "id": "e05d77dc",
   "metadata": {},
   "outputs": [
    {
     "data": {
      "text/plain": [
       "0"
      ]
     },
     "execution_count": 19,
     "metadata": {},
     "output_type": "execute_result"
    }
   ],
   "source": [
    "df1.isnull().sum().sum()"
   ]
  },
  {
   "cell_type": "code",
   "execution_count": 20,
   "id": "64144a86",
   "metadata": {},
   "outputs": [],
   "source": [
    "df1.drop_duplicates(inplace=True)"
   ]
  },
  {
   "cell_type": "code",
   "execution_count": 33,
   "id": "c77c3de8",
   "metadata": {},
   "outputs": [
    {
     "data": {
      "text/html": [
       "<div>\n",
       "<style scoped>\n",
       "    .dataframe tbody tr th:only-of-type {\n",
       "        vertical-align: middle;\n",
       "    }\n",
       "\n",
       "    .dataframe tbody tr th {\n",
       "        vertical-align: top;\n",
       "    }\n",
       "\n",
       "    .dataframe thead th {\n",
       "        text-align: right;\n",
       "    }\n",
       "</style>\n",
       "<table border=\"1\" class=\"dataframe\">\n",
       "  <thead>\n",
       "    <tr style=\"text-align: right;\">\n",
       "      <th></th>\n",
       "      <th>Product</th>\n",
       "      <th>Price</th>\n",
       "    </tr>\n",
       "  </thead>\n",
       "  <tbody>\n",
       "    <tr>\n",
       "      <th>0</th>\n",
       "      <td>Samsung Galaxy A14</td>\n",
       "      <td>36699</td>\n",
       "    </tr>\n",
       "    <tr>\n",
       "      <th>1</th>\n",
       "      <td>Samsung Galaxy A54</td>\n",
       "      <td>117999</td>\n",
       "    </tr>\n",
       "    <tr>\n",
       "      <th>2</th>\n",
       "      <td>Samsung Galaxy S22 Ultra</td>\n",
       "      <td>341999</td>\n",
       "    </tr>\n",
       "    <tr>\n",
       "      <th>3</th>\n",
       "      <td>Samsung Galaxy A03</td>\n",
       "      <td>35299</td>\n",
       "    </tr>\n",
       "    <tr>\n",
       "      <th>4</th>\n",
       "      <td>Samsung Galaxy S23 Ultra</td>\n",
       "      <td>288999</td>\n",
       "    </tr>\n",
       "    <tr>\n",
       "      <th>5</th>\n",
       "      <td>Samsung Galaxy A04s</td>\n",
       "      <td>39700</td>\n",
       "    </tr>\n",
       "    <tr>\n",
       "      <th>6</th>\n",
       "      <td>Samsung Galaxy A24</td>\n",
       "      <td>76099</td>\n",
       "    </tr>\n",
       "    <tr>\n",
       "      <th>7</th>\n",
       "      <td>Samsung Galaxy Z Flip 4</td>\n",
       "      <td>224999</td>\n",
       "    </tr>\n",
       "    <tr>\n",
       "      <th>8</th>\n",
       "      <td>Samsung Galaxy A13</td>\n",
       "      <td>50499</td>\n",
       "    </tr>\n",
       "    <tr>\n",
       "      <th>9</th>\n",
       "      <td>Samsung Galaxy A04</td>\n",
       "      <td>35399</td>\n",
       "    </tr>\n",
       "    <tr>\n",
       "      <th>10</th>\n",
       "      <td>Samsung Galaxy A24</td>\n",
       "      <td>71099</td>\n",
       "    </tr>\n",
       "    <tr>\n",
       "      <th>11</th>\n",
       "      <td>Samsung Galaxy A04</td>\n",
       "      <td>34999</td>\n",
       "    </tr>\n",
       "    <tr>\n",
       "      <th>12</th>\n",
       "      <td>Samsung Galaxy A54</td>\n",
       "      <td>166599</td>\n",
       "    </tr>\n",
       "    <tr>\n",
       "      <th>13</th>\n",
       "      <td>Samsung Galaxy A14</td>\n",
       "      <td>54399</td>\n",
       "    </tr>\n",
       "    <tr>\n",
       "      <th>14</th>\n",
       "      <td>Samsung Galaxy A54</td>\n",
       "      <td>139099</td>\n",
       "    </tr>\n",
       "    <tr>\n",
       "      <th>15</th>\n",
       "      <td>Samsung Galaxy A14</td>\n",
       "      <td>52299</td>\n",
       "    </tr>\n",
       "    <tr>\n",
       "      <th>16</th>\n",
       "      <td>Samsung Galaxy A13</td>\n",
       "      <td>53499</td>\n",
       "    </tr>\n",
       "    <tr>\n",
       "      <th>17</th>\n",
       "      <td>Samsung Galaxy A34</td>\n",
       "      <td>142499</td>\n",
       "    </tr>\n",
       "    <tr>\n",
       "      <th>21</th>\n",
       "      <td>Samsung Galaxy A04</td>\n",
       "      <td>39399</td>\n",
       "    </tr>\n",
       "  </tbody>\n",
       "</table>\n",
       "</div>"
      ],
      "text/plain": [
       "                     Product   Price\n",
       "0         Samsung Galaxy A14   36699\n",
       "1         Samsung Galaxy A54  117999\n",
       "2   Samsung Galaxy S22 Ultra  341999\n",
       "3         Samsung Galaxy A03   35299\n",
       "4   Samsung Galaxy S23 Ultra  288999\n",
       "5        Samsung Galaxy A04s   39700\n",
       "6         Samsung Galaxy A24   76099\n",
       "7    Samsung Galaxy Z Flip 4  224999\n",
       "8         Samsung Galaxy A13   50499\n",
       "9         Samsung Galaxy A04   35399\n",
       "10        Samsung Galaxy A24   71099\n",
       "11        Samsung Galaxy A04   34999\n",
       "12        Samsung Galaxy A54  166599\n",
       "13        Samsung Galaxy A14   54399\n",
       "14        Samsung Galaxy A54  139099\n",
       "15        Samsung Galaxy A14   52299\n",
       "16        Samsung Galaxy A13   53499\n",
       "17        Samsung Galaxy A34  142499\n",
       "21        Samsung Galaxy A04   39399"
      ]
     },
     "execution_count": 33,
     "metadata": {},
     "output_type": "execute_result"
    }
   ],
   "source": [
    "df1"
   ]
  },
  {
   "cell_type": "markdown",
   "id": "652a4f70",
   "metadata": {},
   "source": [
    "# Web Scrapping of Samsung Phones (Product) from Priceoye (E-Commerce Website)"
   ]
  },
  {
   "cell_type": "code",
   "execution_count": 22,
   "id": "ada2e43c",
   "metadata": {},
   "outputs": [],
   "source": [
    "r2=requests.get(url2)"
   ]
  },
  {
   "cell_type": "code",
   "execution_count": 23,
   "id": "9430d693",
   "metadata": {},
   "outputs": [],
   "source": [
    "soup2=BeautifulSoup(r2.text,\"lxml\")"
   ]
  },
  {
   "cell_type": "code",
   "execution_count": 24,
   "id": "d4e7fcaf",
   "metadata": {},
   "outputs": [],
   "source": [
    "# Find all elements with class 'p-title bold h5' and 'price-box p1'\n",
    "name2 = soup2.find_all('div', class_='p-title bold h5')\n",
    "price2 = soup2.find_all('div', class_='price-box p1')"
   ]
  },
  {
   "cell_type": "code",
   "execution_count": 25,
   "id": "fba4d543",
   "metadata": {},
   "outputs": [],
   "source": [
    "# Initialize lists to store product names and prices\n",
    "product_names = []\n",
    "product_prices = []\n",
    "# Loop through each product listing\n",
    "for name in name2:\n",
    "    product_name = name.text.strip()\n",
    "    product_names.append(product_name)\n",
    "    \n",
    "for price in price2:\n",
    "    product_price = price.text.strip()\n",
    "    product_prices.append(product_price)    "
   ]
  },
  {
   "cell_type": "code",
   "execution_count": 26,
   "id": "4b2ecc42",
   "metadata": {},
   "outputs": [],
   "source": [
    "# Create a DataFrame with two columns\n",
    "df2 = pd.DataFrame({'Product': product_names, 'Price': product_prices})"
   ]
  },
  {
   "cell_type": "code",
   "execution_count": 27,
   "id": "11c05122",
   "metadata": {},
   "outputs": [
    {
     "name": "stderr",
     "output_type": "stream",
     "text": [
      "C:\\Users\\Comfinite\\AppData\\Local\\Temp\\ipykernel_12656\\3955493633.py:2: FutureWarning: The default value of regex will change from True to False in a future version.\n",
      "  df2['Price'] = df2['Price'].str.replace('Rs.', '')\n"
     ]
    }
   ],
   "source": [
    "# Remove \"Rs\" from the \"Price\" column\n",
    "df2['Price'] = df2['Price'].str.replace('Rs.', '')"
   ]
  },
  {
   "cell_type": "code",
   "execution_count": 28,
   "id": "5583b163",
   "metadata": {},
   "outputs": [],
   "source": [
    "# Remove \"Rs\" from the \"Price\" column\n",
    "df2['Price'] = df2['Price'].str.replace(',', '')"
   ]
  },
  {
   "cell_type": "code",
   "execution_count": 30,
   "id": "4220e900",
   "metadata": {},
   "outputs": [
    {
     "name": "stdout",
     "output_type": "stream",
     "text": [
      "                       Product    Price\n",
      "0           Samsung Galaxy A13    45799\n",
      "1           Samsung Galaxy A14    49999\n",
      "2          Samsung Galaxy A04s    36199\n",
      "3        Samsung Galaxy A24 4G    67499\n",
      "4           Samsung Galaxy A04    27199\n",
      "5          Samsung Galaxy A04e    29099\n",
      "6     Samsung Galaxy S22 Ultra   375499\n",
      "7      Samsung Galaxy Z Flip 5   349999\n",
      "8        Samsung Galaxy A33 5G   105999\n",
      "9        Samsung Galaxy A54 5G   140999\n",
      "10    Samsung Galaxy S23 Ultra   504999\n",
      "11     Samsung Galaxy Z Fold 4   499999\n",
      "12     Samsung Galaxy Z Flip 4   255499\n",
      "13          Samsung Galaxy A34   104999\n",
      "14          Samsung Galaxy A22    66499\n",
      "15       Samsung Galaxy S21 FE   194999\n",
      "16       Samsung Galaxy A53 5G   121499\n",
      "17          Samsung Galaxy S22   265999\n",
      "18          Samsung Galaxy S23   359999\n",
      "19          Samsung Galaxy A73   197999\n",
      "20     Samsung Galaxy Z Fold 5   526999\n",
      "21          Samsung Galaxy A32    79999\n",
      "22          Samsung Galaxy A23    74199\n",
      "23          Samsung Galaxy A03    26799\n",
      "24          Samsung Galaxy M04    29999\n",
      "25          Samsung Galaxy M24    64999\n",
      "26       Samsung Galaxy M34 5G    69999\n",
      "27          Samsung Galaxy M54    79999\n",
      "28     Samsung Galaxy S23 Plus   499000\n",
      "29          Samsung Galaxy F54    74499\n",
      "30       Samsung Galaxy Z Flip   131999\n",
      "31  Samsung Galaxy Z Fold 3 5G   305999\n",
      "32    Samsung Galaxy S21 Ultra   225499\n",
      "33       Samsung Galaxy S20 FE    95999\n",
      "34      Samsung Galaxy A52s 5G    84999\n"
     ]
    }
   ],
   "source": [
    "# Remove leading and trailing spaces from both columns\n",
    "df1['Product']= df1['Product'].str.strip()\n",
    "df1['Price'] = df1['Price'].str.strip()\n",
    "\n",
    "# Print the updated DataFrame\n",
    "print(df2)"
   ]
  },
  {
   "cell_type": "markdown",
   "id": "145361ab",
   "metadata": {},
   "source": [
    "# Dealing with duplicates and missing values"
   ]
  },
  {
   "cell_type": "code",
   "execution_count": 34,
   "id": "cc68bed2",
   "metadata": {},
   "outputs": [
    {
     "data": {
      "text/plain": [
       "0"
      ]
     },
     "execution_count": 34,
     "metadata": {},
     "output_type": "execute_result"
    }
   ],
   "source": [
    "df2.duplicated().sum()"
   ]
  },
  {
   "cell_type": "code",
   "execution_count": 35,
   "id": "0e9917c1",
   "metadata": {},
   "outputs": [
    {
     "data": {
      "text/plain": [
       "0"
      ]
     },
     "execution_count": 35,
     "metadata": {},
     "output_type": "execute_result"
    }
   ],
   "source": [
    "df1.isnull().sum().sum()"
   ]
  },
  {
   "cell_type": "code",
   "execution_count": 36,
   "id": "7b9c1989",
   "metadata": {},
   "outputs": [
    {
     "data": {
      "text/html": [
       "<div>\n",
       "<style scoped>\n",
       "    .dataframe tbody tr th:only-of-type {\n",
       "        vertical-align: middle;\n",
       "    }\n",
       "\n",
       "    .dataframe tbody tr th {\n",
       "        vertical-align: top;\n",
       "    }\n",
       "\n",
       "    .dataframe thead th {\n",
       "        text-align: right;\n",
       "    }\n",
       "</style>\n",
       "<table border=\"1\" class=\"dataframe\">\n",
       "  <thead>\n",
       "    <tr style=\"text-align: right;\">\n",
       "      <th></th>\n",
       "      <th>Product</th>\n",
       "      <th>Price</th>\n",
       "    </tr>\n",
       "  </thead>\n",
       "  <tbody>\n",
       "    <tr>\n",
       "      <th>0</th>\n",
       "      <td>Samsung Galaxy A14</td>\n",
       "      <td>36699</td>\n",
       "    </tr>\n",
       "    <tr>\n",
       "      <th>1</th>\n",
       "      <td>Samsung Galaxy A54</td>\n",
       "      <td>117999</td>\n",
       "    </tr>\n",
       "    <tr>\n",
       "      <th>2</th>\n",
       "      <td>Samsung Galaxy S22 Ultra</td>\n",
       "      <td>341999</td>\n",
       "    </tr>\n",
       "    <tr>\n",
       "      <th>3</th>\n",
       "      <td>Samsung Galaxy A03</td>\n",
       "      <td>35299</td>\n",
       "    </tr>\n",
       "    <tr>\n",
       "      <th>4</th>\n",
       "      <td>Samsung Galaxy S23 Ultra</td>\n",
       "      <td>288999</td>\n",
       "    </tr>\n",
       "    <tr>\n",
       "      <th>5</th>\n",
       "      <td>Samsung Galaxy A04s</td>\n",
       "      <td>39700</td>\n",
       "    </tr>\n",
       "    <tr>\n",
       "      <th>6</th>\n",
       "      <td>Samsung Galaxy A24</td>\n",
       "      <td>76099</td>\n",
       "    </tr>\n",
       "    <tr>\n",
       "      <th>7</th>\n",
       "      <td>Samsung Galaxy Z Flip 4</td>\n",
       "      <td>224999</td>\n",
       "    </tr>\n",
       "    <tr>\n",
       "      <th>8</th>\n",
       "      <td>Samsung Galaxy A13</td>\n",
       "      <td>50499</td>\n",
       "    </tr>\n",
       "    <tr>\n",
       "      <th>9</th>\n",
       "      <td>Samsung Galaxy A04</td>\n",
       "      <td>35399</td>\n",
       "    </tr>\n",
       "    <tr>\n",
       "      <th>10</th>\n",
       "      <td>Samsung Galaxy A24</td>\n",
       "      <td>71099</td>\n",
       "    </tr>\n",
       "    <tr>\n",
       "      <th>11</th>\n",
       "      <td>Samsung Galaxy A04</td>\n",
       "      <td>34999</td>\n",
       "    </tr>\n",
       "    <tr>\n",
       "      <th>12</th>\n",
       "      <td>Samsung Galaxy A54</td>\n",
       "      <td>166599</td>\n",
       "    </tr>\n",
       "    <tr>\n",
       "      <th>13</th>\n",
       "      <td>Samsung Galaxy A14</td>\n",
       "      <td>54399</td>\n",
       "    </tr>\n",
       "    <tr>\n",
       "      <th>14</th>\n",
       "      <td>Samsung Galaxy A54</td>\n",
       "      <td>139099</td>\n",
       "    </tr>\n",
       "    <tr>\n",
       "      <th>15</th>\n",
       "      <td>Samsung Galaxy A14</td>\n",
       "      <td>52299</td>\n",
       "    </tr>\n",
       "    <tr>\n",
       "      <th>16</th>\n",
       "      <td>Samsung Galaxy A13</td>\n",
       "      <td>53499</td>\n",
       "    </tr>\n",
       "    <tr>\n",
       "      <th>17</th>\n",
       "      <td>Samsung Galaxy A34</td>\n",
       "      <td>142499</td>\n",
       "    </tr>\n",
       "    <tr>\n",
       "      <th>21</th>\n",
       "      <td>Samsung Galaxy A04</td>\n",
       "      <td>39399</td>\n",
       "    </tr>\n",
       "  </tbody>\n",
       "</table>\n",
       "</div>"
      ],
      "text/plain": [
       "                     Product   Price\n",
       "0         Samsung Galaxy A14   36699\n",
       "1         Samsung Galaxy A54  117999\n",
       "2   Samsung Galaxy S22 Ultra  341999\n",
       "3         Samsung Galaxy A03   35299\n",
       "4   Samsung Galaxy S23 Ultra  288999\n",
       "5        Samsung Galaxy A04s   39700\n",
       "6         Samsung Galaxy A24   76099\n",
       "7    Samsung Galaxy Z Flip 4  224999\n",
       "8         Samsung Galaxy A13   50499\n",
       "9         Samsung Galaxy A04   35399\n",
       "10        Samsung Galaxy A24   71099\n",
       "11        Samsung Galaxy A04   34999\n",
       "12        Samsung Galaxy A54  166599\n",
       "13        Samsung Galaxy A14   54399\n",
       "14        Samsung Galaxy A54  139099\n",
       "15        Samsung Galaxy A14   52299\n",
       "16        Samsung Galaxy A13   53499\n",
       "17        Samsung Galaxy A34  142499\n",
       "21        Samsung Galaxy A04   39399"
      ]
     },
     "metadata": {},
     "output_type": "display_data"
    },
    {
     "data": {
      "text/html": [
       "<div>\n",
       "<style scoped>\n",
       "    .dataframe tbody tr th:only-of-type {\n",
       "        vertical-align: middle;\n",
       "    }\n",
       "\n",
       "    .dataframe tbody tr th {\n",
       "        vertical-align: top;\n",
       "    }\n",
       "\n",
       "    .dataframe thead th {\n",
       "        text-align: right;\n",
       "    }\n",
       "</style>\n",
       "<table border=\"1\" class=\"dataframe\">\n",
       "  <thead>\n",
       "    <tr style=\"text-align: right;\">\n",
       "      <th></th>\n",
       "      <th>Product</th>\n",
       "      <th>Price</th>\n",
       "    </tr>\n",
       "  </thead>\n",
       "  <tbody>\n",
       "    <tr>\n",
       "      <th>0</th>\n",
       "      <td>Samsung Galaxy A13</td>\n",
       "      <td>45799</td>\n",
       "    </tr>\n",
       "    <tr>\n",
       "      <th>1</th>\n",
       "      <td>Samsung Galaxy A14</td>\n",
       "      <td>49999</td>\n",
       "    </tr>\n",
       "    <tr>\n",
       "      <th>2</th>\n",
       "      <td>Samsung Galaxy A04s</td>\n",
       "      <td>36199</td>\n",
       "    </tr>\n",
       "    <tr>\n",
       "      <th>3</th>\n",
       "      <td>Samsung Galaxy A24 4G</td>\n",
       "      <td>67499</td>\n",
       "    </tr>\n",
       "    <tr>\n",
       "      <th>4</th>\n",
       "      <td>Samsung Galaxy A04</td>\n",
       "      <td>27199</td>\n",
       "    </tr>\n",
       "    <tr>\n",
       "      <th>5</th>\n",
       "      <td>Samsung Galaxy A04e</td>\n",
       "      <td>29099</td>\n",
       "    </tr>\n",
       "    <tr>\n",
       "      <th>6</th>\n",
       "      <td>Samsung Galaxy S22 Ultra</td>\n",
       "      <td>375499</td>\n",
       "    </tr>\n",
       "    <tr>\n",
       "      <th>7</th>\n",
       "      <td>Samsung Galaxy Z Flip 5</td>\n",
       "      <td>349999</td>\n",
       "    </tr>\n",
       "    <tr>\n",
       "      <th>8</th>\n",
       "      <td>Samsung Galaxy A33 5G</td>\n",
       "      <td>105999</td>\n",
       "    </tr>\n",
       "    <tr>\n",
       "      <th>9</th>\n",
       "      <td>Samsung Galaxy A54 5G</td>\n",
       "      <td>140999</td>\n",
       "    </tr>\n",
       "    <tr>\n",
       "      <th>10</th>\n",
       "      <td>Samsung Galaxy S23 Ultra</td>\n",
       "      <td>504999</td>\n",
       "    </tr>\n",
       "    <tr>\n",
       "      <th>11</th>\n",
       "      <td>Samsung Galaxy Z Fold 4</td>\n",
       "      <td>499999</td>\n",
       "    </tr>\n",
       "    <tr>\n",
       "      <th>12</th>\n",
       "      <td>Samsung Galaxy Z Flip 4</td>\n",
       "      <td>255499</td>\n",
       "    </tr>\n",
       "    <tr>\n",
       "      <th>13</th>\n",
       "      <td>Samsung Galaxy A34</td>\n",
       "      <td>104999</td>\n",
       "    </tr>\n",
       "    <tr>\n",
       "      <th>14</th>\n",
       "      <td>Samsung Galaxy A22</td>\n",
       "      <td>66499</td>\n",
       "    </tr>\n",
       "    <tr>\n",
       "      <th>15</th>\n",
       "      <td>Samsung Galaxy S21 FE</td>\n",
       "      <td>194999</td>\n",
       "    </tr>\n",
       "    <tr>\n",
       "      <th>16</th>\n",
       "      <td>Samsung Galaxy A53 5G</td>\n",
       "      <td>121499</td>\n",
       "    </tr>\n",
       "    <tr>\n",
       "      <th>17</th>\n",
       "      <td>Samsung Galaxy S22</td>\n",
       "      <td>265999</td>\n",
       "    </tr>\n",
       "    <tr>\n",
       "      <th>18</th>\n",
       "      <td>Samsung Galaxy S23</td>\n",
       "      <td>359999</td>\n",
       "    </tr>\n",
       "    <tr>\n",
       "      <th>19</th>\n",
       "      <td>Samsung Galaxy A73</td>\n",
       "      <td>197999</td>\n",
       "    </tr>\n",
       "    <tr>\n",
       "      <th>20</th>\n",
       "      <td>Samsung Galaxy Z Fold 5</td>\n",
       "      <td>526999</td>\n",
       "    </tr>\n",
       "    <tr>\n",
       "      <th>21</th>\n",
       "      <td>Samsung Galaxy A32</td>\n",
       "      <td>79999</td>\n",
       "    </tr>\n",
       "    <tr>\n",
       "      <th>22</th>\n",
       "      <td>Samsung Galaxy A23</td>\n",
       "      <td>74199</td>\n",
       "    </tr>\n",
       "    <tr>\n",
       "      <th>23</th>\n",
       "      <td>Samsung Galaxy A03</td>\n",
       "      <td>26799</td>\n",
       "    </tr>\n",
       "    <tr>\n",
       "      <th>24</th>\n",
       "      <td>Samsung Galaxy M04</td>\n",
       "      <td>29999</td>\n",
       "    </tr>\n",
       "    <tr>\n",
       "      <th>25</th>\n",
       "      <td>Samsung Galaxy M24</td>\n",
       "      <td>64999</td>\n",
       "    </tr>\n",
       "    <tr>\n",
       "      <th>26</th>\n",
       "      <td>Samsung Galaxy M34 5G</td>\n",
       "      <td>69999</td>\n",
       "    </tr>\n",
       "    <tr>\n",
       "      <th>27</th>\n",
       "      <td>Samsung Galaxy M54</td>\n",
       "      <td>79999</td>\n",
       "    </tr>\n",
       "    <tr>\n",
       "      <th>28</th>\n",
       "      <td>Samsung Galaxy S23 Plus</td>\n",
       "      <td>499000</td>\n",
       "    </tr>\n",
       "    <tr>\n",
       "      <th>29</th>\n",
       "      <td>Samsung Galaxy F54</td>\n",
       "      <td>74499</td>\n",
       "    </tr>\n",
       "    <tr>\n",
       "      <th>30</th>\n",
       "      <td>Samsung Galaxy Z Flip</td>\n",
       "      <td>131999</td>\n",
       "    </tr>\n",
       "    <tr>\n",
       "      <th>31</th>\n",
       "      <td>Samsung Galaxy Z Fold 3 5G</td>\n",
       "      <td>305999</td>\n",
       "    </tr>\n",
       "    <tr>\n",
       "      <th>32</th>\n",
       "      <td>Samsung Galaxy S21 Ultra</td>\n",
       "      <td>225499</td>\n",
       "    </tr>\n",
       "    <tr>\n",
       "      <th>33</th>\n",
       "      <td>Samsung Galaxy S20 FE</td>\n",
       "      <td>95999</td>\n",
       "    </tr>\n",
       "    <tr>\n",
       "      <th>34</th>\n",
       "      <td>Samsung Galaxy A52s 5G</td>\n",
       "      <td>84999</td>\n",
       "    </tr>\n",
       "  </tbody>\n",
       "</table>\n",
       "</div>"
      ],
      "text/plain": [
       "                       Product    Price\n",
       "0           Samsung Galaxy A13    45799\n",
       "1           Samsung Galaxy A14    49999\n",
       "2          Samsung Galaxy A04s    36199\n",
       "3        Samsung Galaxy A24 4G    67499\n",
       "4           Samsung Galaxy A04    27199\n",
       "5          Samsung Galaxy A04e    29099\n",
       "6     Samsung Galaxy S22 Ultra   375499\n",
       "7      Samsung Galaxy Z Flip 5   349999\n",
       "8        Samsung Galaxy A33 5G   105999\n",
       "9        Samsung Galaxy A54 5G   140999\n",
       "10    Samsung Galaxy S23 Ultra   504999\n",
       "11     Samsung Galaxy Z Fold 4   499999\n",
       "12     Samsung Galaxy Z Flip 4   255499\n",
       "13          Samsung Galaxy A34   104999\n",
       "14          Samsung Galaxy A22    66499\n",
       "15       Samsung Galaxy S21 FE   194999\n",
       "16       Samsung Galaxy A53 5G   121499\n",
       "17          Samsung Galaxy S22   265999\n",
       "18          Samsung Galaxy S23   359999\n",
       "19          Samsung Galaxy A73   197999\n",
       "20     Samsung Galaxy Z Fold 5   526999\n",
       "21          Samsung Galaxy A32    79999\n",
       "22          Samsung Galaxy A23    74199\n",
       "23          Samsung Galaxy A03    26799\n",
       "24          Samsung Galaxy M04    29999\n",
       "25          Samsung Galaxy M24    64999\n",
       "26       Samsung Galaxy M34 5G    69999\n",
       "27          Samsung Galaxy M54    79999\n",
       "28     Samsung Galaxy S23 Plus   499000\n",
       "29          Samsung Galaxy F54    74499\n",
       "30       Samsung Galaxy Z Flip   131999\n",
       "31  Samsung Galaxy Z Fold 3 5G   305999\n",
       "32    Samsung Galaxy S21 Ultra   225499\n",
       "33       Samsung Galaxy S20 FE    95999\n",
       "34      Samsung Galaxy A52s 5G    84999"
      ]
     },
     "metadata": {},
     "output_type": "display_data"
    }
   ],
   "source": [
    "# Display both DataFrames in a single output cell\n",
    "from IPython.display import display\n",
    "\n",
    "display(df1)\n",
    "display(df2)"
   ]
  },
  {
   "cell_type": "markdown",
   "id": "1a1311b5",
   "metadata": {},
   "source": [
    "# Comparing price of Samsung Galaxy A04"
   ]
  },
  {
   "cell_type": "code",
   "execution_count": 37,
   "id": "1748a8b9",
   "metadata": {},
   "outputs": [
    {
     "name": "stdout",
     "output_type": "stream",
     "text": [
      "Comparing Samsung Galaxy A04, it has a better price on Priceoye Website.\n"
     ]
    }
   ],
   "source": [
    "#Variable which is being compared\n",
    "product_to_compare = 'Samsung Galaxy A04'\n",
    "\n",
    "# Retrieve the prices of 'Samsung Galaxy A04' from df1 and df2\n",
    "price_web1 = df1[df1['Product'] == product_to_compare]['Price'].values[0]\n",
    "price_web2 = df2[df2['Product'] == product_to_compare]['Price'].values[0]\n",
    "\n",
    "# Compare the prices and determine which website offers the better price\n",
    "better_website = 'Homeshopping Website' if price_web1 < price_web2 else 'Priceoye Website'\n",
    "\n",
    "print(f\"Comparing {product_to_compare}, it has a better price on {better_website}.\")\n"
   ]
  }
 ],
 "metadata": {
  "kernelspec": {
   "display_name": "Python 3 (ipykernel)",
   "language": "python",
   "name": "python3"
  },
  "language_info": {
   "codemirror_mode": {
    "name": "ipython",
    "version": 3
   },
   "file_extension": ".py",
   "mimetype": "text/x-python",
   "name": "python",
   "nbconvert_exporter": "python",
   "pygments_lexer": "ipython3",
   "version": "3.11.3"
  }
 },
 "nbformat": 4,
 "nbformat_minor": 5
}
